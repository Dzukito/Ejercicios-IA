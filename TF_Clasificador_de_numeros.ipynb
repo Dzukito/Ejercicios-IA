{
  "nbformat": 4,
  "nbformat_minor": 0,
  "metadata": {
    "colab": {
      "name": "TF-Clasificador_de_numeros.ipynb",
      "provenance": [],
      "authorship_tag": "ABX9TyPCpex+yJF8HwLHSEbikPZn",
      "include_colab_link": true
    },
    "kernelspec": {
      "name": "python3",
      "display_name": "Python 3"
    }
  },
  "cells": [
    {
      "cell_type": "markdown",
      "metadata": {
        "id": "view-in-github",
        "colab_type": "text"
      },
      "source": [
        "<a href=\"https://colab.research.google.com/github/Fedryus/Ejercicios-IA/blob/master/TF_Clasificador_de_numeros.ipynb\" target=\"_parent\"><img src=\"https://colab.research.google.com/assets/colab-badge.svg\" alt=\"Open In Colab\"/></a>"
      ]
    },
    {
      "cell_type": "markdown",
      "metadata": {
        "id": "4Su4zINP7CYN",
        "colab_type": "text"
      },
      "source": [
        "**Este es el Hello World de las NN, conocido como MNist.**\n",
        "\n",
        "Nosotros le damos al modelo un nro escrito a mano y debe decirme cual es"
      ]
    },
    {
      "cell_type": "code",
      "metadata": {
        "id": "01h3E6Sp6aaV",
        "colab_type": "code",
        "colab": {}
      },
      "source": [
        "#La red tendra 2 capas:\n",
        "   #Una que reciba todos los pixeles de la imagen (28x28)\n",
        "   #Una capa de salida con un vector de 10 elementos (del 1-10 que nro cree que es)"
      ],
      "execution_count": 0,
      "outputs": []
    },
    {
      "cell_type": "code",
      "metadata": {
        "id": "qQKE82wK6rZH",
        "colab_type": "code",
        "colab": {}
      },
      "source": [
        "import tensorflow as tf\n",
        "from tensorflow.examples.tutorials.mnist import input_data #Contiene imagenes de numeros y etiquetas de que numero es"
      ],
      "execution_count": 0,
      "outputs": []
    },
    {
      "cell_type": "code",
      "metadata": {
        "id": "MNCTRDjc62Xt",
        "colab_type": "code",
        "colab": {
          "base_uri": "https://localhost:8080/",
          "height": 85
        },
        "outputId": "c31541fb-1727-473f-cab5-669df3796e76"
      },
      "source": [
        "mnist= input_data.read_data_sets(\"MNIST_data/\", one_hot=True)"
      ],
      "execution_count": 7,
      "outputs": [
        {
          "output_type": "stream",
          "text": [
            "Extracting MNIST_data/train-images-idx3-ubyte.gz\n",
            "Extracting MNIST_data/train-labels-idx1-ubyte.gz\n",
            "Extracting MNIST_data/t10k-images-idx3-ubyte.gz\n",
            "Extracting MNIST_data/t10k-labels-idx1-ubyte.gz\n"
          ],
          "name": "stdout"
        }
      ]
    },
    {
      "cell_type": "code",
      "metadata": {
        "id": "U4Rgxfv_7IrT",
        "colab_type": "code",
        "colab": {}
      },
      "source": [
        "x=tf.placeholder(tf.float32,[None,784]) #x sera la matriz de entrada. \n",
        "#None significa \"variable\", puede llenarse con cualquier valor alli\n",
        "#784 porque vamos a transformar las imagenes en un gran vector, y para que ese\n",
        "#vector contenga todos los pixeles de la imagen si hacemos 28x28=784\n",
        "\n",
        "P= tf.Variable(tf.zeros([784,10])) #Matriz de pesos, 784 para recibir la imagen,10 por que la 2da capa tiene 10 elementos (posibles salidas)\n",
        "b= tf.Variable(tf.zeros([10])) #Vector con bias\n",
        "y=tf.matmul(x,P)+b #La operacion que se hara en los nodos que reciben entradas\n",
        "yR= tf.placeholder(tf.float32,[None,10]) #Matriz con las etiquetas REALES del set\n"
      ],
      "execution_count": 0,
      "outputs": []
    },
    {
      "cell_type": "markdown",
      "metadata": {
        "id": "3hH9gYR1_BIJ",
        "colab_type": "text"
      },
      "source": [
        "**Definir la función de costo Cross Entropy para poder medir el error. La salida sera con Softmax**"
      ]
    },
    {
      "cell_type": "code",
      "metadata": {
        "id": "dBdbTkZq_U8G",
        "colab_type": "code",
        "colab": {}
      },
      "source": [
        "softmax= tf.nn.softmax_cross_entropy_with_logits(labels=yR,logits=y) #crossEntropy compara el error entre yR y lo que devolvio Y)\n",
        "costo= tf.reduce_mean(softmax)\n",
        "optimizador=tf.train.GradientDescentOptimizer(0.5).minimize(costo)"
      ],
      "execution_count": 0,
      "outputs": []
    },
    {
      "cell_type": "code",
      "metadata": {
        "id": "3lNoSYy9AyJe",
        "colab_type": "code",
        "colab": {}
      },
      "source": [
        "prediccion= tf.equal(tf.arg_max(y,1), tf.argmax(yR,1)) #Nos da un array de booleanos\n",
        "accuracy= tf.reduce_mean(tf.cast(prediccion,tf.float32)) #Porcentaje de certeza sobre el array predicciones\n",
        "Produccion= tf.arg_max(y,1)\n",
        "#CORRO GRAFICA COMP\n",
        "sess=tf.InteractiveSession()\n",
        "init=tf.global_variables_initializer()"
      ],
      "execution_count": 0,
      "outputs": []
    },
    {
      "cell_type": "code",
      "metadata": {
        "id": "BWJ-eeeTCjOO",
        "colab_type": "code",
        "colab": {}
      },
      "source": [
        ""
      ],
      "execution_count": 0,
      "outputs": []
    },
    {
      "cell_type": "markdown",
      "metadata": {
        "id": "AYInjDytC82M",
        "colab_type": "text"
      },
      "source": [
        "#Entrenar algoritmo"
      ]
    },
    {
      "cell_type": "code",
      "metadata": {
        "id": "EI5oaeYzDB-A",
        "colab_type": "code",
        "colab": {}
      },
      "source": [
        "#Funcion que usaremos para ver que tan bien va a aprendiendo nuestro modelo \n",
        "def avance(epoca_i, sess, last_features, last_labels):\n",
        "    costoActual = sess.run(costo,feed_dict={x: last_features, yR: last_labels})\n",
        "    Certeza = sess.run(accuracy,feed_dict={x:mnist.validation.images,yR: mnist.validation.labels})\n",
        "    print('Epoca: {:<4} - Costo: {:<8.3} Certeza: {:<5.3}'.format(epoca_i,costoActual,Certeza))"
      ],
      "execution_count": 0,
      "outputs": []
    },
    {
      "cell_type": "code",
      "metadata": {
        "id": "nq_yyD1jDE3s",
        "colab_type": "code",
        "colab": {
          "base_uri": "https://localhost:8080/",
          "height": 374
        },
        "outputId": "cbe9f650-c4c5-45ed-d8d3-00626c5cb5fc"
      },
      "source": [
        "with tf.Session() as sess:\n",
        "  sess.run(init)\n",
        "  for epoca_i in range(1000): #lo entreno por 1000 epocas\n",
        "    loteX,loteY=mnist.train.next_batch(100) #le paso lotes de 100 X y 100 etiquetas\n",
        "    sess.run(optimizador,feed_dict={x:loteX, yR:loteY})\n",
        "    if(epoca_i%50==0):\n",
        "      avance(epoca_i,sess,loteX,loteY)\n",
        "  print(\"RESULTADO FINAL: \", sess.run(accuracy,feed_dict={x:mnist.test.images,yR:mnist.test.labels}))"
      ],
      "execution_count": 31,
      "outputs": [
        {
          "output_type": "stream",
          "text": [
            "Epoca: 0    - Costo: 1.68     Certeza: 0.246\n",
            "Epoca: 50   - Costo: 0.506    Certeza: 0.882\n",
            "Epoca: 100  - Costo: 0.286    Certeza: 0.896\n",
            "Epoca: 150  - Costo: 0.293    Certeza: 0.903\n",
            "Epoca: 200  - Costo: 0.271    Certeza: 0.91 \n",
            "Epoca: 250  - Costo: 0.313    Certeza: 0.907\n",
            "Epoca: 300  - Costo: 0.253    Certeza: 0.913\n",
            "Epoca: 350  - Costo: 0.217    Certeza: 0.912\n",
            "Epoca: 400  - Costo: 0.295    Certeza: 0.911\n",
            "Epoca: 450  - Costo: 0.29     Certeza: 0.915\n",
            "Epoca: 500  - Costo: 0.187    Certeza: 0.916\n",
            "Epoca: 550  - Costo: 0.329    Certeza: 0.917\n",
            "Epoca: 600  - Costo: 0.334    Certeza: 0.919\n",
            "Epoca: 650  - Costo: 0.32     Certeza: 0.922\n",
            "Epoca: 700  - Costo: 0.284    Certeza: 0.917\n",
            "Epoca: 750  - Costo: 0.246    Certeza: 0.922\n",
            "Epoca: 800  - Costo: 0.213    Certeza: 0.916\n",
            "Epoca: 850  - Costo: 0.228    Certeza: 0.918\n",
            "Epoca: 900  - Costo: 0.188    Certeza: 0.921\n",
            "Epoca: 950  - Costo: 0.191    Certeza: 0.918\n",
            "RESULTADO FINAL:  0.9161\n"
          ],
          "name": "stdout"
        }
      ]
    }
  ]
}