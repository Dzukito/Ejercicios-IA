{
  "nbformat": 4,
  "nbformat_minor": 0,
  "metadata": {
    "colab": {
      "name": "RegresionLineal.ipynb",
      "provenance": [],
      "collapsed_sections": [],
      "authorship_tag": "ABX9TyNpDab48FzcrNG4UA3aeVMF",
      "include_colab_link": true
    },
    "kernelspec": {
      "name": "python3",
      "display_name": "Python 3"
    }
  },
  "cells": [
    {
      "cell_type": "markdown",
      "metadata": {
        "id": "view-in-github",
        "colab_type": "text"
      },
      "source": [
        "<a href=\"https://colab.research.google.com/github/Fedryus/Ejercicios-IA/blob/master/RegresionLineal.ipynb\" target=\"_parent\"><img src=\"https://colab.research.google.com/assets/colab-badge.svg\" alt=\"Open In Colab\"/></a>"
      ]
    },
    {
      "cell_type": "code",
      "metadata": {
        "id": "TZTFLKmDc3XD",
        "colab_type": "code",
        "colab": {}
      },
      "source": [
        "import numpy as np\n",
        "import scipy as sc\n",
        "import matplotlib.pyplot as plt"
      ],
      "execution_count": 0,
      "outputs": []
    },
    {
      "cell_type": "code",
      "metadata": {
        "id": "yJrpE2VsdC0L",
        "colab_type": "code",
        "colab": {}
      },
      "source": [
        "from sklearn.datasets import load_boston"
      ],
      "execution_count": 0,
      "outputs": []
    },
    {
      "cell_type": "code",
      "metadata": {
        "id": "G5u26UwNdRbH",
        "colab_type": "code",
        "colab": {}
      },
      "source": [
        "# CARGAMOS LA LIBRERIA\n",
        "\n",
        "boston= load_boston()\n",
        "#print(boston.DESCR)\n",
        "#Cada columna es una caracteristica y cada fila una casa\n",
        "           #$    #tam   #barrio  ....\n",
        "#casa 1 ( 12000  30000     2     ....)"
      ],
      "execution_count": 0,
      "outputs": []
    },
    {
      "cell_type": "code",
      "metadata": {
        "id": "PjH8OucLdqbd",
        "colab_type": "code",
        "colab": {}
      },
      "source": [
        "X= boston.data[:,5] #matriz de entrada \"x\". Toma todas las filas (:) de la columna 5 del dataset (columna 5= prom nro habitaciones)\n",
        "                    #y termina siendo del tipo (506,1) por haber agarrado solo una caracteristica, por eso queda con forma de array. Pero\n",
        "                    #podriamos agarrar mas caracteristicas y esto haria que X tuviera más columnas, teniendo la forma de una matriz comun.\n",
        "Y= boston.target #matriz (506,1) de entrada \"y\". Toma de todas las filas los de valores medios (precio)\n",
        "\n",
        "\n",
        "\n"
      ],
      "execution_count": 0,
      "outputs": []
    },
    {
      "cell_type": "code",
      "metadata": {
        "id": "XuQ-r0MLfI8h",
        "colab_type": "code",
        "colab": {}
      },
      "source": [
        "#Convertimos los datos en matrices\n",
        "X= np.array(boston.data [:,5])\n",
        "Y= np.array(boston.target)\n",
        "\n",
        "\n"
      ],
      "execution_count": 0,
      "outputs": []
    },
    {
      "cell_type": "code",
      "metadata": {
        "id": "9Rg1Ge3gdXFr",
        "colab_type": "code",
        "outputId": "fcacf0bf-b8f0-4ef9-a727-7e6c994a6ad7",
        "colab": {
          "base_uri": "https://localhost:8080/",
          "height": 265
        }
      },
      "source": [
        "plt.scatter(X,Y)\n",
        "plt.show()"
      ],
      "execution_count": 34,
      "outputs": [
        {
          "output_type": "display_data",
          "data": {
            "image/png": "[encoded data removed]",
            "text/plain": [
              "<Figure size 432x288 with 1 Axes>"
            ]
          },
          "metadata": {
            "tags": []
          }
        }
      ]
    },
    {
      "cell_type": "code",
      "metadata": {
        "id": "hIYHiL7Kf7n-",
        "colab_type": "code",
        "colab": {}
      },
      "source": [
        "#Ahora hay que encontrar la linea de la regresion...\n",
        "#Hay que implementar la formula de la f. de coste minimizada por el el error cuadratico medio (MCO)\n",
        "#Tomo la matriz X y la matriz Y, aplico la funcion y BOOM, obtengo el valor de los parametros w que van a minimizar el error\n",
        "#con los parametros w me refiero a los parametros de la recta y= w0 +w1x"
      ],
      "execution_count": 0,
      "outputs": []
    },
    {
      "cell_type": "markdown",
      "metadata": {
        "id": "pOMfY6ZG-iwg",
        "colab_type": "text"
      },
      "source": [
        "Formula minimizar el error cuadratico medio(MCO): $\\beta = (X^{T}X)^{-1}X^{T}Y$"
      ]
    },
    {
      "cell_type": "code",
      "metadata": {
        "id": "FT12gfE6-9zF",
        "colab_type": "code",
        "colab": {
          "base_uri": "https://localhost:8080/",
          "height": 34
        },
        "outputId": "59798fe3-d4ea-4790-9e0e-25b47002c016"
      },
      "source": [
        "# Añadimos una columna de 1s para que cuando hagas la multiplicacion la primera W se quede sin X, como termino independiente\n",
        "#Asi queda Y= W0+W1X\n",
        "\n",
        "X= np.array([np.ones(506),X]).T #añado .T porque sino la funcion se traspone (??) \n",
        "print(X.shape)\n"
      ],
      "execution_count": 36,
      "outputs": [
        {
          "output_type": "stream",
          "text": [
            "(506, 2)\n"
          ],
          "name": "stdout"
        }
      ]
    },
    {
      "cell_type": "code",
      "metadata": {
        "id": "eMvzEs-OBEEx",
        "colab_type": "code",
        "colab": {}
      },
      "source": [
        "#Declaramos la famosa funcion\n",
        "\n",
        "B= np.linalg.inv(X.T @ X) @ X.T @ Y"
      ],
      "execution_count": 0,
      "outputs": []
    },
    {
      "cell_type": "code",
      "metadata": {
        "id": "rbOseJo4Ciuo",
        "colab_type": "code",
        "colab": {
          "base_uri": "https://localhost:8080/",
          "height": 34
        },
        "outputId": "6f9f1572-21ac-431c-daeb-66ad38902d88"
      },
      "source": [
        "B #Resultado final (el primero es el termino independiente, osea w0, y\n",
        "  #el 2do es el valor de la pendiente, osea w1)\n"
      ],
      "execution_count": 39,
      "outputs": [
        {
          "output_type": "execute_result",
          "data": {
            "text/plain": [
              "array([-34.67062078,   9.10210898])"
            ]
          },
          "metadata": {
            "tags": []
          },
          "execution_count": 39
        }
      ]
    },
    {
      "cell_type": "code",
      "metadata": {
        "id": "tNBlEslGFBnT",
        "colab_type": "code",
        "colab": {
          "base_uri": "https://localhost:8080/",
          "height": 265
        },
        "outputId": "b344550e-2a14-46fc-a22c-34b2f6cd1769"
      },
      "source": [
        "X= np.array(boston.data [:,5])\n",
        "Y= np.array(boston.target)\n",
        "plt.scatter(X,Y)\n",
        "\n",
        "plt.plot([4,9],[B[0]+B[1]*4,B[0]+B[1]*9], c=\"red\") #recta \n",
        "\n",
        "#>>>> y= -34.6 + (9.1)X <<<<<<\n",
        "      \n",
        "\n",
        "plt.show()"
      ],
      "execution_count": 45,
      "outputs": [
        {
          "output_type": "display_data",
          "data": {
            "image/png": "[encoded data removed]",
            "text/plain": [
              "<Figure size 432x288 with 1 Axes>"
            ]
          },
          "metadata": {
            "tags": []
          }
        }
      ]
    },
    {
      "cell_type": "code",
      "metadata": {
        "id": "_hMZLBQDGVWb",
        "colab_type": "code",
        "colab": {}
      },
      "source": [
        ""
      ],
      "execution_count": 0,
      "outputs": []
    }
  ]
}