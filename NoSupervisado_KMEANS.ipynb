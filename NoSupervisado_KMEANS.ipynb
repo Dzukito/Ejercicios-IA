{
  "nbformat": 4,
  "nbformat_minor": 0,
  "metadata": {
    "colab": {
      "name": "NoSupervisado-KMEANS.ipynb",
      "provenance": [],
      "authorship_tag": "ABX9TyNEuvd3CIL3AVXKn26N9DrA",
      "include_colab_link": true
    },
    "kernelspec": {
      "name": "python3",
      "display_name": "Python 3"
    }
  },
  "cells": [
    {
      "cell_type": "markdown",
      "metadata": {
        "id": "view-in-github",
        "colab_type": "text"
      },
      "source": [
        "<a href=\"https://colab.research.google.com/github/Fedryus/Ejercicios-IA/blob/master/NoSupervisado_KMEANS.ipynb\" target=\"_parent\"><img src=\"https://colab.research.google.com/assets/colab-badge.svg\" alt=\"Open In Colab\"/></a>"
      ]
    },
    {
      "cell_type": "code",
      "metadata": {
        "id": "A6_ibz35NFR1",
        "colab_type": "code",
        "colab": {}
      },
      "source": [
        "# KMEANS\n",
        "#Le decimos al algoritmo en cuantos grupos de datos quiere que clasifique la data\n",
        "#K=2 quiero 2 grupos "
      ],
      "execution_count": 0,
      "outputs": []
    },
    {
      "cell_type": "code",
      "metadata": {
        "id": "mamuzCS-Pfw1",
        "colab_type": "code",
        "colab": {}
      },
      "source": [
        "#Primero KMEANS va a crear dos puntos aleatorios llamados CENTROIDES y con cada iteraciones los usara para clasificar\n",
        "#Al final los CENTROIDES deben quedar en el centro de los clusters"
      ],
      "execution_count": 0,
      "outputs": []
    },
    {
      "cell_type": "code",
      "metadata": {
        "id": "ag1KlRp_Pwqd",
        "colab_type": "code",
        "colab": {}
      },
      "source": [
        "#Esto es medio ensayo y error para encontrar el K optimo"
      ],
      "execution_count": 0,
      "outputs": []
    },
    {
      "cell_type": "code",
      "metadata": {
        "id": "zH5iU2-pQRDw",
        "colab_type": "code",
        "colab": {}
      },
      "source": [
        "#Solo le vamos a dar las caracteristicas, las etiquetas solo las vamos a usar para el score"
      ],
      "execution_count": 0,
      "outputs": []
    },
    {
      "cell_type": "code",
      "metadata": {
        "id": "Xt0bXlXAQWEb",
        "colab_type": "code",
        "colab": {}
      },
      "source": [
        "from sklearn.cluster import KMeans\n",
        "from sklearn import datasets\n",
        "from sklearn import metrics #para poder ver que tan bien aprende"
      ],
      "execution_count": 0,
      "outputs": []
    },
    {
      "cell_type": "code",
      "metadata": {
        "id": "9-LIEeg1Qg3r",
        "colab_type": "code",
        "colab": {}
      },
      "source": [
        "iris= datasets.load_iris()\n",
        "X= iris.data\n",
        "Y= iris.target"
      ],
      "execution_count": 0,
      "outputs": []
    },
    {
      "cell_type": "code",
      "metadata": {
        "id": "N4HMltFeQnhX",
        "colab_type": "code",
        "colab": {}
      },
      "source": [
        "km= KMeans(n_clusters=2,max_iter=3000)"
      ],
      "execution_count": 0,
      "outputs": []
    },
    {
      "cell_type": "code",
      "metadata": {
        "id": "0raqJx7ZQod8",
        "colab_type": "code",
        "colab": {
          "base_uri": "https://localhost:8080/",
          "height": 68
        },
        "outputId": "bbecc92e-4ff9-4307-a841-ba04f4ae9c0d"
      },
      "source": [
        "km.fit(X)"
      ],
      "execution_count": 11,
      "outputs": [
        {
          "output_type": "execute_result",
          "data": {
            "text/plain": [
              "KMeans(algorithm='auto', copy_x=True, init='k-means++', max_iter=3000,\n",
              "       n_clusters=2, n_init=10, n_jobs=None, precompute_distances='auto',\n",
              "       random_state=None, tol=0.0001, verbose=0)"
            ]
          },
          "metadata": {
            "tags": []
          },
          "execution_count": 11
        }
      ]
    },
    {
      "cell_type": "code",
      "metadata": {
        "id": "u1zwJNxOQ1rU",
        "colab_type": "code",
        "colab": {}
      },
      "source": [
        "predicciones=km.predict(X) #Aca no hay problema de sobreajuste haciendo la prediccion con el traindataset como en supervisado"
      ],
      "execution_count": 0,
      "outputs": []
    },
    {
      "cell_type": "code",
      "metadata": {
        "id": "4vwXUfa4REzI",
        "colab_type": "code",
        "colab": {
          "base_uri": "https://localhost:8080/",
          "height": 136
        },
        "outputId": "4e82672c-562b-4124-f426-0c06729bebf3"
      },
      "source": [
        "predicciones"
      ],
      "execution_count": 13,
      "outputs": [
        {
          "output_type": "execute_result",
          "data": {
            "text/plain": [
              "array([1, 1, 1, 1, 1, 1, 1, 1, 1, 1, 1, 1, 1, 1, 1, 1, 1, 1, 1, 1, 1, 1,\n",
              "       1, 1, 1, 1, 1, 1, 1, 1, 1, 1, 1, 1, 1, 1, 1, 1, 1, 1, 1, 1, 1, 1,\n",
              "       1, 1, 1, 1, 1, 1, 0, 0, 0, 0, 0, 0, 0, 1, 0, 0, 0, 0, 0, 0, 0, 0,\n",
              "       0, 0, 0, 0, 0, 0, 0, 0, 0, 0, 0, 0, 0, 0, 0, 0, 0, 0, 0, 0, 0, 0,\n",
              "       0, 0, 0, 0, 0, 1, 0, 0, 0, 0, 1, 0, 0, 0, 0, 0, 0, 0, 0, 0, 0, 0,\n",
              "       0, 0, 0, 0, 0, 0, 0, 0, 0, 0, 0, 0, 0, 0, 0, 0, 0, 0, 0, 0, 0, 0,\n",
              "       0, 0, 0, 0, 0, 0, 0, 0, 0, 0, 0, 0, 0, 0, 0, 0, 0, 0], dtype=int32)"
            ]
          },
          "metadata": {
            "tags": []
          },
          "execution_count": 13
        }
      ]
    },
    {
      "cell_type": "code",
      "metadata": {
        "id": "8vudU0OTRGRC",
        "colab_type": "code",
        "colab": {}
      },
      "source": [
        "score=metrics.adjusted_rand_score(Y,predicciones)"
      ],
      "execution_count": 0,
      "outputs": []
    },
    {
      "cell_type": "code",
      "metadata": {
        "id": "1TxV63JzRLMN",
        "colab_type": "code",
        "colab": {
          "base_uri": "https://localhost:8080/",
          "height": 34
        },
        "outputId": "c6646bd1-ed75-432a-ef23-b65f0e6103ea"
      },
      "source": [
        "print(score) #53% no es bueno..."
      ],
      "execution_count": 15,
      "outputs": [
        {
          "output_type": "stream",
          "text": [
            "0.5399218294207123\n"
          ],
          "name": "stdout"
        }
      ]
    },
    {
      "cell_type": "code",
      "metadata": {
        "id": "UG3d1zorRNvP",
        "colab_type": "code",
        "colab": {
          "base_uri": "https://localhost:8080/",
          "height": 68
        },
        "outputId": "ce3444c9-dffe-4dbc-ca47-6de796b4004e"
      },
      "source": [
        "#Solucion: meterse en la data y revisarla o cambiar el K\n",
        "\n",
        "km= KMeans(n_clusters=3,max_iter=3000)\n",
        "km.fit(X)"
      ],
      "execution_count": 16,
      "outputs": [
        {
          "output_type": "execute_result",
          "data": {
            "text/plain": [
              "KMeans(algorithm='auto', copy_x=True, init='k-means++', max_iter=3000,\n",
              "       n_clusters=3, n_init=10, n_jobs=None, precompute_distances='auto',\n",
              "       random_state=None, tol=0.0001, verbose=0)"
            ]
          },
          "metadata": {
            "tags": []
          },
          "execution_count": 16
        }
      ]
    },
    {
      "cell_type": "code",
      "metadata": {
        "id": "LDW7zUraRhxa",
        "colab_type": "code",
        "colab": {
          "base_uri": "https://localhost:8080/",
          "height": 34
        },
        "outputId": "89604787-c76e-4bf7-aa54-a4e4be3a83f0"
      },
      "source": [
        "\n",
        "predicciones=km.predict(X)\n",
        "score=metrics.adjusted_rand_score(Y,predicciones)\n",
        "print(score)"
      ],
      "execution_count": 18,
      "outputs": [
        {
          "output_type": "stream",
          "text": [
            "0.7302382722834697\n"
          ],
          "name": "stdout"
        }
      ]
    },
    {
      "cell_type": "code",
      "metadata": {
        "id": "OKotWvyRRoKI",
        "colab_type": "code",
        "colab": {}
      },
      "source": [
        "#Aca se salvo porque era problema de K, pero puede ser culpa del dataset"
      ],
      "execution_count": 0,
      "outputs": []
    },
    {
      "cell_type": "code",
      "metadata": {
        "id": "HS0FWY8eR04X",
        "colab_type": "code",
        "colab": {}
      },
      "source": [
        ""
      ],
      "execution_count": 0,
      "outputs": []
    }
  ]
}