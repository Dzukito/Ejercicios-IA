{
  "nbformat": 4,
  "nbformat_minor": 0,
  "metadata": {
    "colab": {
      "name": "TFBasics.ipynb",
      "provenance": [],
      "collapsed_sections": [],
      "authorship_tag": "ABX9TyMIRU1dguNXBsZBheQB1Gp/",
      "include_colab_link": true
    },
    "kernelspec": {
      "name": "python3",
      "display_name": "Python 3"
    }
  },
  "cells": [
    {
      "cell_type": "markdown",
      "metadata": {
        "id": "view-in-github",
        "colab_type": "text"
      },
      "source": [
        "<a href=\"https://colab.research.google.com/github/Fedryus/Ejercicios-IA/blob/master/TFBasics.ipynb\" target=\"_parent\"><img src=\"https://colab.research.google.com/assets/colab-badge.svg\" alt=\"Open In Colab\"/></a>"
      ]
    },
    {
      "cell_type": "code",
      "metadata": {
        "id": "j98aqJLYKKWk",
        "colab_type": "code",
        "colab": {}
      },
      "source": [
        "#Tensor: Vector o matriz\n",
        "#Flow: Operaciones matematicas"
      ],
      "execution_count": 0,
      "outputs": []
    },
    {
      "cell_type": "code",
      "metadata": {
        "id": "d3_FeuDfKmqD",
        "colab_type": "code",
        "colab": {}
      },
      "source": [
        "import tensorflow as tf"
      ],
      "execution_count": 0,
      "outputs": []
    },
    {
      "cell_type": "code",
      "metadata": {
        "id": "Yr1R88HQKsbD",
        "colab_type": "code",
        "colab": {}
      },
      "source": [
        "# CONSTANTE -> tf.constant(valor,tipo,name=)\n",
        "constante= tf.constant([2.01,3,4],dtype=tf.float32, name=\"Constante1\")"
      ],
      "execution_count": 0,
      "outputs": []
    },
    {
      "cell_type": "code",
      "metadata": {
        "id": "v4pU7Ba5LORP",
        "colab_type": "code",
        "colab": {
          "base_uri": "https://localhost:8080/",
          "height": 34
        },
        "outputId": "87b4b845-47cc-46eb-eac8-78ccdd70284a"
      },
      "source": [
        "print(constante) #no nos imprime el valor xq estamos definiendo la grafica computacional, no tiene todavia los valores definidos"
      ],
      "execution_count": 5,
      "outputs": [
        {
          "output_type": "stream",
          "text": [
            "Tensor(\"Constante1_1:0\", shape=(3,), dtype=float32)\n"
          ],
          "name": "stdout"
        }
      ]
    },
    {
      "cell_type": "code",
      "metadata": {
        "id": "HfU9n_O7LZRB",
        "colab_type": "code",
        "colab": {}
      },
      "source": [
        "# PLACEHOLDER -> tf.placeholder() \n",
        "#Variable vacia al inicio pero que se va llenando a medida que avanzamos. Se usa para los input de data\n",
        "apartado= tf.placeholder(tf.float32, name= \"Apartado1\")"
      ],
      "execution_count": 0,
      "outputs": []
    },
    {
      "cell_type": "code",
      "metadata": {
        "id": "qc12xvhjMJa7",
        "colab_type": "code",
        "colab": {
          "base_uri": "https://localhost:8080/",
          "height": 34
        },
        "outputId": "0544baf8-0887-400f-a578-bc16e9b0d731"
      },
      "source": [
        "print(apartado) #No imprime nada xq otra vez solo estamos definiendo la grafica computacional"
      ],
      "execution_count": 8,
      "outputs": [
        {
          "output_type": "stream",
          "text": [
            "Tensor(\"Apartado1:0\", dtype=float32)\n"
          ],
          "name": "stdout"
        }
      ]
    },
    {
      "cell_type": "code",
      "metadata": {
        "id": "n7D5dqyJMN9H",
        "colab_type": "code",
        "colab": {}
      },
      "source": [
        "# VARIABLE -> tf.Variable()\n",
        "var= tf.Variable(3,dtype=tf.float32,name=\"variable1\")"
      ],
      "execution_count": 0,
      "outputs": []
    },
    {
      "cell_type": "code",
      "metadata": {
        "id": "09yprbEkMnw9",
        "colab_type": "code",
        "colab": {}
      },
      "source": [
        "matriz= tf.zeros([3,4], tf.int32, name=\"matriz\") #Creacion de una matriz"
      ],
      "execution_count": 0,
      "outputs": []
    },
    {
      "cell_type": "code",
      "metadata": {
        "id": "WlNByImiM3yU",
        "colab_type": "code",
        "colab": {
          "base_uri": "https://localhost:8080/",
          "height": 34
        },
        "outputId": "7e074ef8-3702-4e0e-96d8-e1cd05898ee2"
      },
      "source": [
        "print(matriz) #No nos da nada como el resto"
      ],
      "execution_count": 13,
      "outputs": [
        {
          "output_type": "stream",
          "text": [
            "Tensor(\"matriz:0\", shape=(3, 4), dtype=int32)\n"
          ],
          "name": "stdout"
        }
      ]
    },
    {
      "cell_type": "code",
      "metadata": {
        "id": "6HMD2BqzM5iF",
        "colab_type": "code",
        "colab": {}
      },
      "source": [
        "#Ahora con todo esto de arriba ya tenemos definida nuestra Grafica Computacional\n",
        "#GRAFICA COMPUTACIONAL: Planos de nuestro codigo\n",
        "\n",
        "#Para poder empezar a usar debemos correr una sesion:"
      ],
      "execution_count": 0,
      "outputs": []
    },
    {
      "cell_type": "code",
      "metadata": {
        "id": "Y5ln0zKoNIBn",
        "colab_type": "code",
        "colab": {}
      },
      "source": [
        "#Inicializar variables\n",
        "inicializar= tf.global_variables_initializer()"
      ],
      "execution_count": 0,
      "outputs": []
    },
    {
      "cell_type": "code",
      "metadata": {
        "id": "OHqRzOkCNcUO",
        "colab_type": "code",
        "colab": {}
      },
      "source": [
        "session= tf.Session() #Variable que se va a encargar de correr toda la Graf. comp.\n"
      ],
      "execution_count": 0,
      "outputs": []
    },
    {
      "cell_type": "code",
      "metadata": {
        "id": "aOVVD77aNkwa",
        "colab_type": "code",
        "colab": {}
      },
      "source": [
        "session.run(inicializar) #Una vez corro esto todas las variables y const ahora si tienen un valor asignado"
      ],
      "execution_count": 0,
      "outputs": []
    },
    {
      "cell_type": "code",
      "metadata": {
        "id": "h2zbJz-kNoAr",
        "colab_type": "code",
        "colab": {
          "base_uri": "https://localhost:8080/",
          "height": 68
        },
        "outputId": "e1d99b97-f680-4dbb-c88a-412b072bf927"
      },
      "source": [
        "print(session.run(matriz))"
      ],
      "execution_count": 24,
      "outputs": [
        {
          "output_type": "stream",
          "text": [
            "[[0 0 0 0]\n",
            " [0 0 0 0]\n",
            " [0 0 0 0]]\n"
          ],
          "name": "stdout"
        }
      ]
    },
    {
      "cell_type": "code",
      "metadata": {
        "id": "ZlVjh2Q6N20P",
        "colab_type": "code",
        "colab": {}
      },
      "source": [
        "multiplicar= apartado*constante #placeholder*const"
      ],
      "execution_count": 0,
      "outputs": []
    },
    {
      "cell_type": "code",
      "metadata": {
        "id": "QaZ4qskEOLvQ",
        "colab_type": "code",
        "colab": {
          "base_uri": "https://localhost:8080/",
          "height": 34
        },
        "outputId": "e570f8ce-41bc-4545-fa72-2a2d97a2aabe"
      },
      "source": [
        "print(session.run(multiplicar,feed_dict={apartado:[[15,10,5]]}))"
      ],
      "execution_count": 26,
      "outputs": [
        {
          "output_type": "stream",
          "text": [
            "[[30.15 30.   20.  ]]\n"
          ],
          "name": "stdout"
        }
      ]
    },
    {
      "cell_type": "code",
      "metadata": {
        "id": "jRnM1EVnOp_2",
        "colab_type": "code",
        "colab": {
          "base_uri": "https://localhost:8080/",
          "height": 51
        },
        "outputId": "c6898b10-220e-41b7-9add-24e5e29bb399"
      },
      "source": [
        "#Multiplicacion de matrices->necesita (M,N)x(N,M)=(M,M)\n",
        "a= tf.placeholder(tf.float32,shape=[2,2])\n",
        "b= tf.placeholder(tf.float32,shape=[2,3])\n",
        "mult=tf.matmul(a,b)\n",
        "init= tf.global_variables_initializer()\n",
        "sess=tf.Session()\n",
        "sess.run(init)\n",
        "print(sess.run(mult,feed_dict={a:[[1,2],[2,2]],b:[[12,21,4],[3,2,4]]}))"
      ],
      "execution_count": 34,
      "outputs": [
        {
          "output_type": "stream",
          "text": [
            "[[18. 25. 12.]\n",
            " [30. 46. 16.]]\n"
          ],
          "name": "stdout"
        }
      ]
    },
    {
      "cell_type": "code",
      "metadata": {
        "id": "uJa2qIIDP3aR",
        "colab_type": "code",
        "colab": {
          "base_uri": "https://localhost:8080/",
          "height": 34
        },
        "outputId": "5e8e60ce-9d31-471c-d516-4975d2703b73"
      },
      "source": [
        "#Multiplicacion de vectores\n",
        "c= tf.placeholder(tf.float32,shape=[3])\n",
        "d= tf.placeholder(tf.float32,shape=[3])\n",
        "punto=tf.tensordot(c,d,1) #multiplicacion punto\n",
        "\n",
        "init= tf.global_variables_initializer()\n",
        "sess=tf.Session()\n",
        "sess.run(init)\n",
        "print(sess.run(punto,feed_dict={c:[1,2,3],d:[3,2,1]}))\n"
      ],
      "execution_count": 37,
      "outputs": [
        {
          "output_type": "stream",
          "text": [
            "10.0\n"
          ],
          "name": "stdout"
        }
      ]
    },
    {
      "cell_type": "code",
      "metadata": {
        "id": "Cgba0fqFQes3",
        "colab_type": "code",
        "colab": {}
      },
      "source": [
        ""
      ],
      "execution_count": 0,
      "outputs": []
    }
  ]
}