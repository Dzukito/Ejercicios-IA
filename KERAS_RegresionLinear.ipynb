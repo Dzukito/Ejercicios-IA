{
  "nbformat": 4,
  "nbformat_minor": 0,
  "metadata": {
    "colab": {
      "name": "KERAS-RegresionLinear.ipynb",
      "provenance": [],
      "collapsed_sections": [],
      "authorship_tag": "ABX9TyPwEzRPwDpkOFjeaTAs3ESA",
      "include_colab_link": true
    },
    "kernelspec": {
      "name": "python3",
      "display_name": "Python 3"
    }
  },
  "cells": [
    {
      "cell_type": "markdown",
      "metadata": {
        "id": "view-in-github",
        "colab_type": "text"
      },
      "source": [
        "<a href=\"https://colab.research.google.com/github/Fedryus/Ejercicios-IA/blob/master/KERAS_RegresionLinear.ipynb\" target=\"_parent\"><img src=\"https://colab.research.google.com/assets/colab-badge.svg\" alt=\"Open In Colab\"/></a>"
      ]
    },
    {
      "cell_type": "code",
      "metadata": {
        "id": "c9cxKA4RTVNW",
        "colab_type": "code",
        "colab": {}
      },
      "source": [
        "\n",
        "# Regresión lineal usando el dataset de presión sanguínea vs. edad y usando la\n",
        "# librería Keras.\n",
        "# Tomado de: http://people.sc.fsu.edu/~jburkardt/datasets/regression/regression.html"
      ],
      "execution_count": 0,
      "outputs": []
    },
    {
      "cell_type": "code",
      "metadata": {
        "id": "HoXxgFBDTcuP",
        "colab_type": "code",
        "colab": {}
      },
      "source": [
        "import pandas as pd\n",
        "import numpy as np\n",
        "import matplotlib.pyplot as plt"
      ],
      "execution_count": 0,
      "outputs": []
    },
    {
      "cell_type": "code",
      "metadata": {
        "id": "DCKinIvQWn_d",
        "colab_type": "code",
        "colab": {
          "base_uri": "https://localhost:8080/",
          "height": 102
        },
        "outputId": "bb383bca-3c78-4a00-a8e2-a6b289ad8eeb"
      },
      "source": [
        "%tensorflow_version 1.14\n",
        "\n"
      ],
      "execution_count": 3,
      "outputs": [
        {
          "output_type": "stream",
          "text": [
            "`%tensorflow_version` only switches the major version: 1.x or 2.x.\n",
            "You set: `1.14`. This will be interpreted as: `1.x`.\n",
            "\n",
            "\n",
            "TensorFlow 1.x selected.\n"
          ],
          "name": "stdout"
        }
      ]
    },
    {
      "cell_type": "code",
      "metadata": {
        "id": "rOHQ_RnUTnl0",
        "colab_type": "code",
        "colab": {
          "base_uri": "https://localhost:8080/",
          "height": 34
        },
        "outputId": "2fde66b5-8486-4d0a-e82d-f2a52276f7f0"
      },
      "source": [
        "from keras.models import Sequential #contenedor secuencial de capas\n",
        "from keras.layers.core import Dense\n",
        "from keras.optimizers import SGD"
      ],
      "execution_count": 4,
      "outputs": [
        {
          "output_type": "stream",
          "text": [
            "Using TensorFlow backend.\n"
          ],
          "name": "stderr"
        }
      ]
    },
    {
      "cell_type": "code",
      "metadata": {
        "id": "eLYkllNqUUrY",
        "colab_type": "code",
        "outputId": "0a2b0cff-e5f6-4426-aadc-85777dd9be2b",
        "colab": {
          "base_uri": "https://localhost:8080/",
          "height": 527
        }
      },
      "source": [
        "datos= pd.read_csv(\"dataset.csv\", sep=\",\", skiprows=32, usecols=[2,3])\n",
        "print(datos)\n"
      ],
      "execution_count": 5,
      "outputs": [
        {
          "output_type": "stream",
          "text": [
            "    Age  Systolic blood pressure\n",
            "0    39                      144\n",
            "1    45                      138\n",
            "2    47                      145\n",
            "3    65                      162\n",
            "4    46                      142\n",
            "5    67                      170\n",
            "6    42                      124\n",
            "7    67                      158\n",
            "8    56                      154\n",
            "9    64                      162\n",
            "10   56                      150\n",
            "11   59                      140\n",
            "12   34                      110\n",
            "13   42                      128\n",
            "14   48                      130\n",
            "15   45                      135\n",
            "16   17                      114\n",
            "17   20                      116\n",
            "18   19                      124\n",
            "19   36                      136\n",
            "20   50                      142\n",
            "21   39                      120\n",
            "22   21                      120\n",
            "23   44                      160\n",
            "24   53                      158\n",
            "25   63                      144\n",
            "26   29                      130\n",
            "27   25                      125\n",
            "28   69                      175\n"
          ],
          "name": "stdout"
        }
      ]
    },
    {
      "cell_type": "code",
      "metadata": {
        "id": "cG0DnzBEUhoR",
        "colab_type": "code",
        "outputId": "b652302b-7a7c-422e-8733-df40a787475e",
        "colab": {
          "base_uri": "https://localhost:8080/",
          "height": 279
        }
      },
      "source": [
        "datos.plot.scatter(x=\"Age\",y=\"Systolic blood pressure\")\n",
        "plt.xlabel(\"Edad(años)\")\n",
        "plt.ylabel(\"Presion sistolica(mm de Mercurio)\")\n",
        "plt.show()"
      ],
      "execution_count": 6,
      "outputs": [
        {
          "output_type": "display_data",
          "data": {
            "image/png": "[encoded data removed]",
            "text/plain": [
              "<Figure size 432x288 with 1 Axes>"
            ]
          },
          "metadata": {
            "tags": []
          }
        }
      ]
    },
    {
      "cell_type": "code",
      "metadata": {
        "id": "voZ9RxeGVHxK",
        "colab_type": "code",
        "colab": {}
      },
      "source": [
        "x= datos[\"Age\"].values\n",
        "y= datos[\"Systolic blood pressure\"].values"
      ],
      "execution_count": 0,
      "outputs": []
    },
    {
      "cell_type": "code",
      "metadata": {
        "id": "TsNf_bPGVUYA",
        "colab_type": "code",
        "colab": {}
      },
      "source": [
        "#\n",
        "# Construir el modelo en Keras\n",
        "#\n",
        "# - Capa de entrada: 1 dato (cada dato \"x\" correspondiente a la edad)\n",
        "# - Capa de salida: 1 dato (cada dato \"y\" correspondiente a la regresión lineal)\n",
        "# - Activación: 'linear' (pues se está implementando la regresión lineal)\n"
      ],
      "execution_count": 0,
      "outputs": []
    },
    {
      "cell_type": "code",
      "metadata": {
        "id": "2rM-8d0QVr42",
        "colab_type": "code",
        "colab": {}
      },
      "source": [
        "np.random.seed() #Para reproducir ele xperimento"
      ],
      "execution_count": 0,
      "outputs": []
    },
    {
      "cell_type": "code",
      "metadata": {
        "id": "M8RvrnMEV07n",
        "colab_type": "code",
        "colab": {}
      },
      "source": [
        "input_dim=1\n",
        "output_dim=1\n",
        "modelo= Sequential() # CREO MI MODELO \n",
        "modelo.add(Dense(output_dim,input_dim=input_dim,activation=\"linear\"))"
      ],
      "execution_count": 0,
      "outputs": []
    },
    {
      "cell_type": "code",
      "metadata": {
        "id": "qciu-DuOWNcO",
        "colab_type": "code",
        "colab": {}
      },
      "source": [
        "sgd= SGD(lr=0.0004)\n",
        "modelo.compile(loss=\"mse\", optimizer=sgd) #Compile define el optimizador y funcion de costo de mi modelo\n",
        "#MSE= ERROR CUADRATICO MEDIO"
      ],
      "execution_count": 0,
      "outputs": []
    },
    {
      "cell_type": "code",
      "metadata": {
        "id": "Up3E4FyGWi9V",
        "colab_type": "code",
        "colab": {}
      },
      "source": [
        "#TRAIN\n",
        "num_epochs = 40000\n",
        "batch_size = x.shape[0] #como es pequeño le meto todo de una (osea todo x)\n",
        "history = modelo.fit(x, y, epochs=num_epochs, batch_size=batch_size, verbose=0) #verbose permite imprimir el valor de las iteraciones. 0 significa que no quiero imprimir"
      ],
      "execution_count": 0,
      "outputs": []
    },
    {
      "cell_type": "code",
      "metadata": {
        "id": "Wr_sQwlJn8Qu",
        "colab_type": "code",
        "colab": {
          "base_uri": "https://localhost:8080/",
          "height": 187
        },
        "outputId": "bf64cb48-30c2-4e71-8bdb-77cbcb1ea1d0"
      },
      "source": [
        "modelo.summary()"
      ],
      "execution_count": 29,
      "outputs": [
        {
          "output_type": "stream",
          "text": [
            "Model: \"sequential_3\"\n",
            "_________________________________________________________________\n",
            "Layer (type)                 Output Shape              Param #   \n",
            "=================================================================\n",
            "dense_2 (Dense)              (None, 1)                 2         \n",
            "=================================================================\n",
            "Total params: 2\n",
            "Trainable params: 2\n",
            "Non-trainable params: 0\n",
            "_________________________________________________________________\n"
          ],
          "name": "stdout"
        }
      ]
    },
    {
      "cell_type": "code",
      "metadata": {
        "id": "TaXhKJNRqXdL",
        "colab_type": "code",
        "colab": {
          "base_uri": "https://localhost:8080/",
          "height": 312
        },
        "outputId": "af41efca-7be8-4f0f-8bac-6b6ae183342e"
      },
      "source": [
        "#\n",
        "# Visualizar resultados del entrenamiento\n",
        "#\n",
        "\n",
        "# Imprimir los coeficientes \"w\" y \"b\"\n",
        "capas = modelo.layers[0]\n",
        "w, b = capas.get_weights()\n",
        "print('Parámetros: w = {:.1f}, b = {:.1f}'.format(w[0][0],b[0]))\n",
        "\n",
        "# Graficar el error vs epochs y el resultado de la regresión\n",
        "# superpuesto a los datos originales\n",
        "plt.subplot(1,2,1)\n",
        "plt.plot(history.history['loss'])\n",
        "plt.xlabel('epoch')\n",
        "plt.ylabel('ECM')\n",
        "plt.title('ECM vs. epochs')\n",
        "\n",
        "y_regr = modelo.predict(x)\n",
        "plt.subplot(1, 2, 2)\n",
        "plt.scatter(x,y)\n",
        "plt.plot(x,y_regr,'r')\n",
        "plt.xlabel('x')\n",
        "plt.ylabel('y')\n",
        "plt.title('Datos originales y regresión lineal')\n",
        "plt.show()\n"
      ],
      "execution_count": 30,
      "outputs": [
        {
          "output_type": "stream",
          "text": [
            "Parámetros: w = 1.0, b = 93.5\n"
          ],
          "name": "stdout"
        },
        {
          "output_type": "display_data",
          "data": {
            "image/png": "[encoded data removed]",
            "text/plain": [
              "<Figure size 432x288 with 2 Axes>"
            ]
          },
          "metadata": {
            "tags": []
          }
        }
      ]
    },
    {
      "cell_type": "code",
      "metadata": {
        "id": "Rd38VuPpqZ6W",
        "colab_type": "code",
        "colab": {
          "base_uri": "https://localhost:8080/",
          "height": 34
        },
        "outputId": "097496bf-32e6-4e21-ac60-21252e478c7b"
      },
      "source": [
        "# PREDICCION\n",
        "\n",
        "x_pred= np.array([90])\n",
        "y_pred = modelo.predict(x_pred)\n",
        "\n",
        "print(y_pred)"
      ],
      "execution_count": 34,
      "outputs": [
        {
          "output_type": "stream",
          "text": [
            "[[185.34038]]\n"
          ],
          "name": "stdout"
        }
      ]
    },
    {
      "cell_type": "code",
      "metadata": {
        "id": "ODTYbwnwqk0_",
        "colab_type": "code",
        "colab": {}
      },
      "source": [
        ""
      ],
      "execution_count": 0,
      "outputs": []
    }
  ]
}