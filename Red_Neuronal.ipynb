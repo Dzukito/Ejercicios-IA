{
  "nbformat": 4,
  "nbformat_minor": 0,
  "metadata": {
    "colab": {
      "name": "HelloBrain.ipynb",
      "provenance": [],
      "collapsed_sections": [],
      "toc_visible": true,
      "authorship_tag": "ABX9TyPTQmTUL2Wb6QQPr+IePy9d",
      "include_colab_link": true
    },
    "kernelspec": {
      "name": "python3",
      "display_name": "Python 3"
    }
  },
  "cells": [
    {
      "cell_type": "markdown",
      "metadata": {
        "id": "view-in-github",
        "colab_type": "text"
      },
      "source": [
        "<a href=\"https://colab.research.google.com/github/Fedryus/Ejercicios-IA/blob/master/HelloBrain.ipynb\" target=\"_parent\"><img src=\"https://colab.research.google.com/assets/colab-badge.svg\" alt=\"Open In Colab\"/></a>"
      ]
    },
    {
      "cell_type": "code",
      "metadata": {
        "id": "H7p0-cwecVNO",
        "colab_type": "code",
        "colab": {}
      },
      "source": [
        "import numpy as np\n",
        "import scipy as sc \n",
        "import matplotlib.pyplot as plt\n",
        "\n",
        "from sklearn.datasets import make_circles #GameOfThronesClasifyProblem"
      ],
      "execution_count": 0,
      "outputs": []
    },
    {
      "cell_type": "code",
      "metadata": {
        "id": "-NdufPRteJHS",
        "colab_type": "code",
        "colab": {
          "base_uri": "https://localhost:8080/",
          "height": 265
        },
        "outputId": "a0d0f42f-a12b-410c-a467-ce73a645c887"
      },
      "source": [
        "# CREAR EL DATASET\n",
        "\n",
        "n=500 #nro de registros que tenemos (cant datos)\n",
        "p=2 #nro de caracteristicas de estos registros (mas facil bidimensional)\n",
        "\n",
        "X, Y= make_circles(n_samples=n, factor=0.5,noise=0.05)\n",
        "#factor= distancia entre los circulos\n",
        "#noise= para que queden nubes de puntos y no circulos perfectos\n",
        "\n",
        "Y= Y[:, np.newaxis]\n",
        "plt.scatter(X[:,0],X[:,1])\n",
        "plt.show()"
      ],
      "execution_count": 100,
      "outputs": [
        {
          "output_type": "display_data",
          "data": {
            "image/png": "[encoded data removed]",
            "text/plain": [
              "<Figure size 432x288 with 1 Axes>"
            ]
          },
          "metadata": {
            "tags": []
          }
        }
      ]
    },
    {
      "cell_type": "code",
      "metadata": {
        "id": "ITIVwpxehTVj",
        "colab_type": "code",
        "colab": {}
      },
      "source": [
        "#Las neuronas dentro de una capa N realizan la misma operacion\n",
        "#Ergo, puedo pensar a la red como un conjunto de modulos(capas)"
      ],
      "execution_count": 0,
      "outputs": []
    },
    {
      "cell_type": "code",
      "metadata": {
        "id": "0H0q_eCUhv9O",
        "colab_type": "code",
        "colab": {}
      },
      "source": [
        "#Creo una clase capa para crear capas(una estructura de datos)\n",
        "class neural_layer():\n",
        "  def __init__(self, n_conn, n_neur, act_f):\n",
        "    self.act_f= act_f\n",
        "#los parametros de la capa son el bias y W\n",
        "    self.b = np.random.rand(1, n_neur) *2 -1 #normalizamos y estandarizamos \n",
        "    self.W = np.random.rand(n_conn, n_neur) *2-1"
      ],
      "execution_count": 0,
      "outputs": []
    },
    {
      "cell_type": "code",
      "metadata": {
        "id": "OuunD8uPotzk",
        "colab_type": "code",
        "colab": {
          "base_uri": "https://localhost:8080/",
          "height": 282
        },
        "outputId": "ccf52913-28d1-4afc-fa97-d58f26a226f8"
      },
      "source": [
        "# FUNCIONES DE ACTIVACION\n",
        "sigm = (lambda x: 1/(1+ np.e ** (-x)),\n",
        "        lambda x:x*(1-x))\n",
        "\n",
        "relu= lambda x: np.maximum(0,x)\n",
        "\n",
        "_x= np.linspace(-5,5,100)\n",
        "plt.plot(_x,sigm[0](_x))\n",
        "\n",
        "#No es necesario que todas las capas tengan la misma act_f"
      ],
      "execution_count": 103,
      "outputs": [
        {
          "output_type": "execute_result",
          "data": {
            "text/plain": [
              "[<matplotlib.lines.Line2D at 0x7f03ef998278>]"
            ]
          },
          "metadata": {
            "tags": []
          },
          "execution_count": 103
        },
        {
          "output_type": "display_data",
          "data": {
            "image/png": "[encoded data removed]",
            "text/plain": [
              "<Figure size 432x288 with 1 Axes>"
            ]
          },
          "metadata": {
            "tags": []
          }
        }
      ]
    },
    {
      "cell_type": "code",
      "metadata": {
        "id": "YszpHUoxqT0c",
        "colab_type": "code",
        "colab": {}
      },
      "source": [
        "# CAPA 0 y 1\n",
        "l0= neural_layer(p,4,sigm)\n",
        "l1= nerual_layer(4,8,sigm)\n",
        "\n",
        "\n",
        "#Mejor creamos una funcion\n",
        "def create_nn(topology, act_f):\n",
        "\n",
        "  nn= [] \n",
        "  for l, layer in enumerate(topology[:-1]): ##el -1 es para que itere HASTA el ultimo elemento y no se pase con el l+1\n",
        "\n",
        "    nn.append(neural_layer(topology[l], topology[l+1], act_f))\n",
        "    \n",
        "  return nn\n"
      ],
      "execution_count": 0,
      "outputs": []
    },
    {
      "cell_type": "code",
      "metadata": {
        "id": "R5R-Y_x3xDa5",
        "colab_type": "code",
        "colab": {}
      },
      "source": [
        "#Con esto ya esta la estructura, pero no sirve para nada, falta la logica"
      ],
      "execution_count": 0,
      "outputs": []
    },
    {
      "cell_type": "code",
      "metadata": {
        "id": "Kzc-LqHfyn7q",
        "colab_type": "code",
        "colab": {}
      },
      "source": [
        "topology= [p, 4, 8, 1] #cantidad de neuronas por capa\n",
        "#sacando p y 1 el resto de nro_neur fue elegido al azar\n",
        "neural_net= create_nn(topology,sigm)"
      ],
      "execution_count": 0,
      "outputs": []
    },
    {
      "cell_type": "code",
      "metadata": {
        "id": "HpN7VH15tq_4",
        "colab_type": "code",
        "colab": {}
      },
      "source": [
        "#ENTRENAMIENTO - 3 pasos\n",
        "#1)Propagacion hacia adelante: Le muestro un dato de entrada y uno de salida.\n",
        "  #procesara por capas y ejecutara sumas ponderas y funciones hasta escupir un valor.\n",
        "  #como no está entrenada el primer resultado será aleatorio\n",
        "#2)Una vez tengo el resultado lo compara con el resultado real y uso la f. de coste\n",
        "  #esto me va a generar un error que lo usaremos en BACKPROPAGATION para hallar derivadas parciales\n",
        "#3)Con ellas puedo usar el Descenso del gradiente para optimizar la f. de coste\n",
        "  #y asi entrenar a la red.\n"
      ],
      "execution_count": 0,
      "outputs": []
    },
    {
      "cell_type": "code",
      "metadata": {
        "id": "6VKkkDs80CSQ",
        "colab_type": "code",
        "colab": {}
      },
      "source": [
        "# FUNCION DE COSTE\n",
        "\n",
        "#Error cuadratico medio\n",
        "l2_cost= (lambda Ypred, Yreal: np.mean((Ypred- Yreal)**2),\n",
        "          lambda Yp,Yr:(Yp-Yr)) #esta 2da es la derivada del ECM. Backprop lo necesita luego\n"
      ],
      "execution_count": 0,
      "outputs": []
    },
    {
      "cell_type": "code",
      "metadata": {
        "id": "rXatKg1K06NR",
        "colab_type": "code",
        "colab": {}
      },
      "source": [
        "#def train(nn, datosEntrada, datoSalida,f.coste,lr para el desc. del grad)\n",
        "def train(neural_net, X, Y, l2_cost, lr=0.5,train=True):\n",
        "\n",
        "  out= [(None, X)] #vector para ir guardando los outputs de c/capa\n",
        "  #en vez de guardar el resultado final(el que pasa por la act_f)\n",
        "  #decido guardar pares ordenados (sumaPonderadaDeLaCapaN,valorActivacionDeLaCapaN)\n",
        "  #out= [(z0,a0),(z1,a1),...]\n",
        "  #out inicia en None (la suma ponderada no existe) y X (los datos) para el primer caso de la iteracion\n",
        "\n",
        "  # Forward pass\n",
        "  for l, layer in enumerate(neural_net):\n",
        "    z = out[-1][1] @ neural_net[l].W +neural_net[l].b\n",
        "    #con esta linea implementamos la suma ponderada\n",
        "    a= neural_net[l].act_f[0](z)\n",
        "  #con esta linea paso la suma por la f. de activacion\n",
        "  #acordarse que la sigmoide la declaramos como 2 funciones, por eso act_f[0]\n",
        "\n",
        "    out.append((z,a))\n",
        "  \n",
        "\n",
        "\n",
        "\n",
        "\n",
        "  if train:\n",
        "    \n",
        "    # Backward pass \n",
        "    deltas = []\n",
        "    \n",
        "    for l in reversed(range(0, len(neural_net))):\n",
        "      \n",
        "      z = out[l+1][0]\n",
        "      a = out[l+1][1]\n",
        "      \n",
        "      if l == len(neural_net) - 1:\n",
        "        deltas.insert(0, l2_cost[1](a, Y) * neural_net[l].act_f[1](a))\n",
        "      else:\n",
        "        deltas.insert(0, deltas[0] @ _W.T * neural_net[l].act_f[1](a))\n",
        "       \n",
        "      _W = neural_net[l].W\n",
        " \n",
        "      # Gradient descent\n",
        "      neural_net[l].b = neural_net[l].b - np.mean(deltas[0], axis=0, keepdims=True) * lr   \n",
        "      neural_net[l].W = neural_net[l].W - out[l][1].T @ deltas[0] * lr\n",
        "      \n",
        "  return out[-1][1]\n"
      ],
      "execution_count": 0,
      "outputs": []
    },
    {
      "cell_type": "code",
      "metadata": {
        "id": "PrUBC_j0GGY4",
        "colab_type": "code",
        "colab": {}
      },
      "source": [
        "\n",
        "#train(neural_net, X, Y, l2_cost, lr=0.5)"
      ],
      "execution_count": 0,
      "outputs": []
    },
    {
      "cell_type": "code",
      "metadata": {
        "id": "UPkXGocGAnmT",
        "colab_type": "code",
        "colab": {}
      },
      "source": [
        "#Dato del BackPropagation: las derivadas parciales son las de W y b respecto al coste"
      ],
      "execution_count": 0,
      "outputs": []
    },
    {
      "cell_type": "code",
      "metadata": {
        "id": "Ul43HbKgHAvr",
        "colab_type": "code",
        "colab": {
          "base_uri": "https://localhost:8080/",
          "height": 517
        },
        "outputId": "7d6ff646-efca-4bf9-df93-f9e3fbef48bf"
      },
      "source": [
        "# VISUALIZACIÓN Y TEST\n",
        "\n",
        "import time\n",
        "from IPython.display import clear_output\n",
        "\n",
        "neural_n = create_nn(topology, sigm)\n",
        "\n",
        "loss = []\n",
        "\n",
        "for i in range(2500):\n",
        "    \n",
        "  # Entrenemos a la red!\n",
        "  pY = train(neural_n, X, Y, l2_cost, lr=0.05)\n",
        "  \n",
        "  if i % 25 == 0:\n",
        "    \n",
        "    print(pY)\n",
        "  \n",
        "    loss.append(l2_cost[0](pY, Y))\n",
        "  \n",
        "    res = 50\n",
        "\n",
        "    _x0 = np.linspace(-1.5, 1.5, res)\n",
        "    _x1 = np.linspace(-1.5, 1.5, res)\n",
        "\n",
        "    _Y = np.zeros((res, res))\n",
        "\n",
        "    for i0, x0 in enumerate(_x0):\n",
        "      for i1, x1 in enumerate(_x1):\n",
        "        _Y[i0, i1] = train(neural_n, np.array([[x0, x1]]), Y, l2_cost, train=False)[0][0]    \n",
        "\n",
        "    plt.pcolormesh(_x0, _x1, _Y, cmap=\"coolwarm\")\n",
        "    plt.axis(\"equal\")\n",
        "\n",
        "    plt.scatter(X[Y[:,0] == 0, 0], X[Y[:,0] == 0, 1], c=\"skyblue\")\n",
        "    plt.scatter(X[Y[:,0] == 1, 0], X[Y[:,0] == 1, 1], c=\"salmon\")\n",
        "\n",
        "    clear_output(wait=True)\n",
        "    plt.show()\n",
        "    plt.plot(range(len(loss)), loss)\n",
        "    plt.show()\n",
        "    time.sleep(0.5)  "
      ],
      "execution_count": 111,
      "outputs": [
        {
          "output_type": "display_data",
          "data": {
            "image/png": "[encoded data removed]",
            "text/plain": [
              "<Figure size 432x288 with 1 Axes>"
            ]
          },
          "metadata": {
            "tags": []
          }
        },
        {
          "output_type": "display_data",
          "data": {
            "image/png": "[encoded data removed]",
            "text/plain": [
              "<Figure size 432x288 with 1 Axes>"
            ]
          },
          "metadata": {
            "tags": []
          }
        }
      ]
    },
    {
      "cell_type": "code",
      "metadata": {
        "id": "U10egpCMHuxX",
        "colab_type": "code",
        "colab": {}
      },
      "source": [
        ""
      ],
      "execution_count": 0,
      "outputs": []
    }
  ]
}
