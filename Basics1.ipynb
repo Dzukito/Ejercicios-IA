{
  "nbformat": 4,
  "nbformat_minor": 0,
  "metadata": {
    "colab": {
      "name": "Basics1.ipynb",
      "provenance": [],
      "authorship_tag": "ABX9TyOerQulmtzOr9Aj81U9tbxs",
      "include_colab_link": true
    },
    "kernelspec": {
      "name": "python3",
      "display_name": "Python 3"
    }
  },
  "cells": [
    {
      "cell_type": "markdown",
      "metadata": {
        "id": "view-in-github",
        "colab_type": "text"
      },
      "source": [
        "<a href=\"https://colab.research.google.com/github/Fedryus/Ejercicios-IA/blob/master/Basics1.ipynb\" target=\"_parent\"><img src=\"https://colab.research.google.com/assets/colab-badge.svg\" alt=\"Open In Colab\"/></a>"
      ]
    },
    {
      "cell_type": "code",
      "metadata": {
        "id": "8PWyAVlmV1YP",
        "colab_type": "code",
        "colab": {}
      },
      "source": [
        "# BASICOS de PYTHON "
      ],
      "execution_count": 0,
      "outputs": []
    },
    {
      "cell_type": "code",
      "metadata": {
        "id": "wJwYxdl5V6wN",
        "colab_type": "code",
        "colab": {}
      },
      "source": [
        "a=12\n",
        "b=34.678\n",
        "c=\"Hola Mundo\"\n"
      ],
      "execution_count": 0,
      "outputs": []
    },
    {
      "cell_type": "code",
      "metadata": {
        "id": "fHh3MIsYZw2O",
        "colab_type": "code",
        "colab": {
          "base_uri": "https://localhost:8080/",
          "height": 34
        },
        "outputId": "7231a1bf-4353-4adf-a373-9b97c1cd187f"
      },
      "source": [
        "type(a)"
      ],
      "execution_count": 17,
      "outputs": [
        {
          "output_type": "execute_result",
          "data": {
            "text/plain": [
              "int"
            ]
          },
          "metadata": {
            "tags": []
          },
          "execution_count": 17
        }
      ]
    },
    {
      "cell_type": "code",
      "metadata": {
        "id": "TaZ2HEwZZ1At",
        "colab_type": "code",
        "colab": {
          "base_uri": "https://localhost:8080/",
          "height": 34
        },
        "outputId": "cb386acf-1f3b-44e0-c311-1c7cd69b5452"
      },
      "source": [
        "a+b #Ints y floats son compatibles"
      ],
      "execution_count": 18,
      "outputs": [
        {
          "output_type": "execute_result",
          "data": {
            "text/plain": [
              "46.678"
            ]
          },
          "metadata": {
            "tags": []
          },
          "execution_count": 18
        }
      ]
    },
    {
      "cell_type": "code",
      "metadata": {
        "id": "IA3ocEUhZ8W7",
        "colab_type": "code",
        "colab": {
          "base_uri": "https://localhost:8080/",
          "height": 34
        },
        "outputId": "365bb130-c9ea-4c6a-8725-55fededbb45a"
      },
      "source": [
        "a/b"
      ],
      "execution_count": 19,
      "outputs": [
        {
          "output_type": "execute_result",
          "data": {
            "text/plain": [
              "0.3460407174577542"
            ]
          },
          "metadata": {
            "tags": []
          },
          "execution_count": 19
        }
      ]
    },
    {
      "cell_type": "code",
      "metadata": {
        "id": "uXcaPvAoZ-W5",
        "colab_type": "code",
        "colab": {
          "base_uri": "https://localhost:8080/",
          "height": 34
        },
        "outputId": "075d1931-f439-4b86-b4d2-839d308da63a"
      },
      "source": [
        "d=\" y hola Marte\"\n",
        "c+d"
      ],
      "execution_count": 21,
      "outputs": [
        {
          "output_type": "execute_result",
          "data": {
            "text/plain": [
              "'Hola Mundo y hola Marte'"
            ]
          },
          "metadata": {
            "tags": []
          },
          "execution_count": 21
        }
      ]
    },
    {
      "cell_type": "code",
      "metadata": {
        "id": "AbcMN7wSahdT",
        "colab_type": "code",
        "colab": {}
      },
      "source": [
        "#Listas y tuplas->se idexan en 0\n",
        "tupla=(1,2,3,4) #una tupla no puede ser modificada, es cte\n",
        "lista=[4,5,6,7,8]\n",
        "\n",
        "lista[0]\n",
        "tupla[0]\n",
        "\n",
        "lista[-1]=14\n",
        "lista.pop() #borramos el ultimo de la lista\n",
        "del lista[1] #borrar un elemento de la lista\n",
        "lista.append(777)"
      ],
      "execution_count": 0,
      "outputs": []
    },
    {
      "cell_type": "code",
      "metadata": {
        "id": "BLGssqefbKaB",
        "colab_type": "code",
        "colab": {
          "base_uri": "https://localhost:8080/",
          "height": 34
        },
        "outputId": "d1ce5088-f806-4455-c46a-4ac3315dde0e"
      },
      "source": [
        "# IF ELSE\n",
        "a=1\n",
        "b=5\n",
        "c=2\n",
        "\n",
        "if(a<b and a==c):\n",
        "  print(\"A es menor a B\")\n",
        "elif(a==b or c==2):\n",
        "  print(\"A es igual a B\")\n",
        "else: print(\"A es mayor a B\")"
      ],
      "execution_count": 32,
      "outputs": [
        {
          "output_type": "stream",
          "text": [
            "A es igual a B\n"
          ],
          "name": "stdout"
        }
      ]
    },
    {
      "cell_type": "code",
      "metadata": {
        "id": "2-XWR43icRIi",
        "colab_type": "code",
        "colab": {}
      },
      "source": [
        "# KNN para REGRESION, REGRESION y RIDGE\n",
        "\n",
        "from sklearn.neighbors import KNeighborsRegressor\n",
        "from sklearn.datasets import load_boston\n",
        "from sklearn.model_selection import train_test_split\n",
        "from sklearn.linear_model import LinearRegression,Ridge"
      ],
      "execution_count": 0,
      "outputs": []
    },
    {
      "cell_type": "code",
      "metadata": {
        "id": "4_4SdWewde4J",
        "colab_type": "code",
        "colab": {
          "base_uri": "https://localhost:8080/",
          "height": 34
        },
        "outputId": "f9a9b617-2e15-4d69-cecb-d1fd6c85c2d2"
      },
      "source": [
        "boston=load_boston()\n",
        "boston.keys()\n"
      ],
      "execution_count": 34,
      "outputs": [
        {
          "output_type": "execute_result",
          "data": {
            "text/plain": [
              "dict_keys(['data', 'target', 'feature_names', 'DESCR', 'filename'])"
            ]
          },
          "metadata": {
            "tags": []
          },
          "execution_count": 34
        }
      ]
    },
    {
      "cell_type": "code",
      "metadata": {
        "id": "ixeJvo8ednpt",
        "colab_type": "code",
        "colab": {}
      },
      "source": [
        "X_train,X_test,Y_train,Y_test=train_test_split(boston.data,boston.target)"
      ],
      "execution_count": 0,
      "outputs": []
    },
    {
      "cell_type": "code",
      "metadata": {
        "id": "S5Wc4nNYeAj3",
        "colab_type": "code",
        "colab": {}
      },
      "source": [
        "knn= KNeighborsRegressor(n_neighbors=5)"
      ],
      "execution_count": 0,
      "outputs": []
    },
    {
      "cell_type": "code",
      "metadata": {
        "id": "ZdjJ6-aTeDgY",
        "colab_type": "code",
        "colab": {
          "base_uri": "https://localhost:8080/",
          "height": 68
        },
        "outputId": "216a1559-d7a5-412e-df79-596f480e4a83"
      },
      "source": [
        "knn.fit(X_train,Y_train)"
      ],
      "execution_count": 50,
      "outputs": [
        {
          "output_type": "execute_result",
          "data": {
            "text/plain": [
              "KNeighborsRegressor(algorithm='auto', leaf_size=30, metric='minkowski',\n",
              "                    metric_params=None, n_jobs=None, n_neighbors=5, p=2,\n",
              "                    weights='uniform')"
            ]
          },
          "metadata": {
            "tags": []
          },
          "execution_count": 50
        }
      ]
    },
    {
      "cell_type": "code",
      "metadata": {
        "id": "vForwyNzePC1",
        "colab_type": "code",
        "colab": {
          "base_uri": "https://localhost:8080/",
          "height": 34
        },
        "outputId": "4428e030-5b7e-4401-e044-a6e236cfa1f6"
      },
      "source": [
        "knn.score(X_test,Y_test)"
      ],
      "execution_count": 51,
      "outputs": [
        {
          "output_type": "execute_result",
          "data": {
            "text/plain": [
              "0.6205554442197085"
            ]
          },
          "metadata": {
            "tags": []
          },
          "execution_count": 51
        }
      ]
    },
    {
      "cell_type": "code",
      "metadata": {
        "id": "a_KOnChgeSlV",
        "colab_type": "code",
        "colab": {}
      },
      "source": [
        "del knn"
      ],
      "execution_count": 0,
      "outputs": []
    },
    {
      "cell_type": "code",
      "metadata": {
        "id": "30xyXKBUecxf",
        "colab_type": "code",
        "colab": {}
      },
      "source": [
        "rl=LinearRegression()"
      ],
      "execution_count": 0,
      "outputs": []
    },
    {
      "cell_type": "code",
      "metadata": {
        "id": "IGOH6uXaeg8J",
        "colab_type": "code",
        "colab": {
          "base_uri": "https://localhost:8080/",
          "height": 34
        },
        "outputId": "2ce1efb8-bd6e-4281-e84d-5fd112d0a4a2"
      },
      "source": [
        "rl.fit(X_train,Y_train)"
      ],
      "execution_count": 54,
      "outputs": [
        {
          "output_type": "execute_result",
          "data": {
            "text/plain": [
              "LinearRegression(copy_X=True, fit_intercept=True, n_jobs=None, normalize=False)"
            ]
          },
          "metadata": {
            "tags": []
          },
          "execution_count": 54
        }
      ]
    },
    {
      "cell_type": "code",
      "metadata": {
        "id": "17jFw4Zgejk5",
        "colab_type": "code",
        "colab": {
          "base_uri": "https://localhost:8080/",
          "height": 34
        },
        "outputId": "d98b7c26-dbf6-4b84-c0c2-4ac0e6f720cd"
      },
      "source": [
        "rl.score(X_test,Y_test)"
      ],
      "execution_count": 55,
      "outputs": [
        {
          "output_type": "execute_result",
          "data": {
            "text/plain": [
              "0.783711171599035"
            ]
          },
          "metadata": {
            "tags": []
          },
          "execution_count": 55
        }
      ]
    },
    {
      "cell_type": "code",
      "metadata": {
        "id": "2TaeXebSeq_7",
        "colab_type": "code",
        "colab": {}
      },
      "source": [
        "del rl"
      ],
      "execution_count": 0,
      "outputs": []
    },
    {
      "cell_type": "code",
      "metadata": {
        "id": "oOzLLGtxes5m",
        "colab_type": "code",
        "colab": {}
      },
      "source": [
        "ridge= Ridge()"
      ],
      "execution_count": 0,
      "outputs": []
    },
    {
      "cell_type": "code",
      "metadata": {
        "id": "p9E0kOwCevYh",
        "colab_type": "code",
        "colab": {
          "base_uri": "https://localhost:8080/",
          "height": 51
        },
        "outputId": "60acbc1a-4cb6-400c-a348-c9fa2edef93f"
      },
      "source": [
        "ridge.fit(X_train,Y_train)"
      ],
      "execution_count": 58,
      "outputs": [
        {
          "output_type": "execute_result",
          "data": {
            "text/plain": [
              "Ridge(alpha=1.0, copy_X=True, fit_intercept=True, max_iter=None,\n",
              "      normalize=False, random_state=None, solver='auto', tol=0.001)"
            ]
          },
          "metadata": {
            "tags": []
          },
          "execution_count": 58
        }
      ]
    },
    {
      "cell_type": "code",
      "metadata": {
        "id": "ch4QQjKDeyNP",
        "colab_type": "code",
        "colab": {
          "base_uri": "https://localhost:8080/",
          "height": 34
        },
        "outputId": "5fcb31d9-5698-4246-ee1e-fa6a90145239"
      },
      "source": [
        "ridge.score(X_test,Y_test)"
      ],
      "execution_count": 59,
      "outputs": [
        {
          "output_type": "execute_result",
          "data": {
            "text/plain": [
              "0.78038477122162"
            ]
          },
          "metadata": {
            "tags": []
          },
          "execution_count": 59
        }
      ]
    },
    {
      "cell_type": "code",
      "metadata": {
        "id": "bedwqgWAe3Xp",
        "colab_type": "code",
        "colab": {}
      },
      "source": [
        "# FIN DE KNN para REGRESION, REGRESION y RIDGE"
      ],
      "execution_count": 0,
      "outputs": []
    },
    {
      "cell_type": "code",
      "metadata": {
        "id": "FLSxiquMfha8",
        "colab_type": "code",
        "colab": {}
      },
      "source": [
        "#ARBOLES DE DECISIONES"
      ],
      "execution_count": 0,
      "outputs": []
    },
    {
      "cell_type": "code",
      "metadata": {
        "id": "2uzDRvMpfjdM",
        "colab_type": "code",
        "colab": {}
      },
      "source": [
        "from sklearn.tree import DecisionTreeClassifier\n",
        "from sklearn.datasets import load_breast_cancer, load_iris\n",
        "from sklearn.model_selection import train_test_split\n",
        "#Para graficar:\n",
        "from sklearn.tree import export_graphviz\n",
        "import graphviz\n",
        "import matplotlib.pyplot as plt\n",
        "import numpy as np\n"
      ],
      "execution_count": 0,
      "outputs": []
    },
    {
      "cell_type": "code",
      "metadata": {
        "id": "ZnsPucPWgRXY",
        "colab_type": "code",
        "colab": {}
      },
      "source": [
        "iris= load_iris()"
      ],
      "execution_count": 0,
      "outputs": []
    },
    {
      "cell_type": "code",
      "metadata": {
        "id": "2loKBiFogXpm",
        "colab_type": "code",
        "colab": {}
      },
      "source": [
        "X_train,X_test,Y_train,Y_test=train_test_split(iris.data,iris.target)"
      ],
      "execution_count": 0,
      "outputs": []
    },
    {
      "cell_type": "code",
      "metadata": {
        "id": "MgXI10eqggl9",
        "colab_type": "code",
        "colab": {}
      },
      "source": [
        "arbol= DecisionTreeClassifier()"
      ],
      "execution_count": 0,
      "outputs": []
    },
    {
      "cell_type": "code",
      "metadata": {
        "id": "hWMouXBognIa",
        "colab_type": "code",
        "colab": {
          "base_uri": "https://localhost:8080/",
          "height": 119
        },
        "outputId": "15c4f8ca-2709-48ce-c294-f4e8aef1c125"
      },
      "source": [
        "arbol.fit(X_train,Y_train)"
      ],
      "execution_count": 69,
      "outputs": [
        {
          "output_type": "execute_result",
          "data": {
            "text/plain": [
              "DecisionTreeClassifier(ccp_alpha=0.0, class_weight=None, criterion='gini',\n",
              "                       max_depth=None, max_features=None, max_leaf_nodes=None,\n",
              "                       min_impurity_decrease=0.0, min_impurity_split=None,\n",
              "                       min_samples_leaf=1, min_samples_split=2,\n",
              "                       min_weight_fraction_leaf=0.0, presort='deprecated',\n",
              "                       random_state=None, splitter='best')"
            ]
          },
          "metadata": {
            "tags": []
          },
          "execution_count": 69
        }
      ]
    },
    {
      "cell_type": "code",
      "metadata": {
        "id": "i9f1kgimgq6o",
        "colab_type": "code",
        "colab": {
          "base_uri": "https://localhost:8080/",
          "height": 34
        },
        "outputId": "49e7d599-c8e3-43cf-f4c4-e812cddbd8e5"
      },
      "source": [
        "arbol.score(X_test,Y_test)"
      ],
      "execution_count": 71,
      "outputs": [
        {
          "output_type": "execute_result",
          "data": {
            "text/plain": [
              "0.9736842105263158"
            ]
          },
          "metadata": {
            "tags": []
          },
          "execution_count": 71
        }
      ]
    },
    {
      "cell_type": "code",
      "metadata": {
        "id": "XJgY9oFXgufv",
        "colab_type": "code",
        "colab": {
          "base_uri": "https://localhost:8080/",
          "height": 34
        },
        "outputId": "b0564276-5011-45c6-856e-a738a2c804cf"
      },
      "source": [
        "arbol.score(X_train,Y_train) #SOBREAJUSTE"
      ],
      "execution_count": 73,
      "outputs": [
        {
          "output_type": "execute_result",
          "data": {
            "text/plain": [
              "1.0"
            ]
          },
          "metadata": {
            "tags": []
          },
          "execution_count": 73
        }
      ]
    },
    {
      "cell_type": "code",
      "metadata": {
        "id": "Vj3Gu4-Yg2Re",
        "colab_type": "code",
        "colab": {}
      },
      "source": [
        "#Generar archivo .dot cque tiene toda la info de mi arbol\n",
        "export_graphviz(arbol, out_file='arbol.dot', class_names=iris.target_names,\n",
        "                feature_names=iris.feature_names, impurity=False, filled=True)"
      ],
      "execution_count": 0,
      "outputs": []
    },
    {
      "cell_type": "code",
      "metadata": {
        "id": "Xtujzmk7hMnq",
        "colab_type": "code",
        "colab": {
          "base_uri": "https://localhost:8080/",
          "height": 816
        },
        "outputId": "6e0784d1-2b76-41bf-ef7e-53dc05497f77"
      },
      "source": [
        "#Graficamos arbol\n",
        "\n",
        "with open(\"arbol.dot\") as f:\n",
        "  dot_graph=f.read()\n",
        "  graphviz.Source(dot_graph)"
      ],
      "execution_count": 85,
      "outputs": [
        {
          "output_type": "execute_result",
          "data": {
            "text/plain": [
              "<graphviz.files.Source at 0x7fab159b8940>"
            ],
            "image/svg+xml": "<?xml version=\"1.0\" encoding=\"UTF-8\" standalone=\"no\"?>\n<!DOCTYPE svg PUBLIC \"-//W3C//DTD SVG 1.1//EN\"\n \"http://www.w3.org/Graphics/SVG/1.1/DTD/svg11.dtd\">\n<!-- Generated by graphviz version 2.40.1 (20161225.0304)\n -->\n<!-- Title: Tree Pages: 1 -->\n<svg width=\"751pt\" height=\"581pt\"\n viewBox=\"0.00 0.00 751.00 581.00\" xmlns=\"http://www.w3.org/2000/svg\" xmlns:xlink=\"http://www.w3.org/1999/xlink\">\n<g id=\"graph0\" class=\"graph\" transform=\"scale(1 1) rotate(0) translate(4 577)\">\n<title>Tree</title>\n<polygon fill=\"#ffffff\" stroke=\"transparent\" points=\"-4,4 -4,-577 747,-577 747,4 -4,4\"/>\n<!-- 0 -->\n<g id=\"node1\" class=\"node\">\n<title>0</title>\n<polygon fill=\"#fefaf7\" stroke=\"#000000\" points=\"269,-573 116,-573 116,-505 269,-505 269,-573\"/>\n<text text-anchor=\"middle\" x=\"192.5\" y=\"-557.8\" font-family=\"Times,serif\" font-size=\"14.00\" fill=\"#000000\">petal width (cm) &lt;= 0.8</text>\n<text text-anchor=\"middle\" x=\"192.5\" y=\"-542.8\" font-family=\"Times,serif\" font-size=\"14.00\" fill=\"#000000\">samples = 112</text>\n<text text-anchor=\"middle\" x=\"192.5\" y=\"-527.8\" font-family=\"Times,serif\" font-size=\"14.00\" fill=\"#000000\">value = [41, 38, 33]</text>\n<text text-anchor=\"middle\" x=\"192.5\" y=\"-512.8\" font-family=\"Times,serif\" font-size=\"14.00\" fill=\"#000000\">class = setosa</text>\n</g>\n<!-- 1 -->\n<g id=\"node2\" class=\"node\">\n<title>1</title>\n<polygon fill=\"#e58139\" stroke=\"#000000\" points=\"172,-461.5 55,-461.5 55,-408.5 172,-408.5 172,-461.5\"/>\n<text text-anchor=\"middle\" x=\"113.5\" y=\"-446.3\" font-family=\"Times,serif\" font-size=\"14.00\" fill=\"#000000\">samples = 41</text>\n<text text-anchor=\"middle\" x=\"113.5\" y=\"-431.3\" font-family=\"Times,serif\" font-size=\"14.00\" fill=\"#000000\">value = [41, 0, 0]</text>\n<text text-anchor=\"middle\" x=\"113.5\" y=\"-416.3\" font-family=\"Times,serif\" font-size=\"14.00\" fill=\"#000000\">class = setosa</text>\n</g>\n<!-- 0&#45;&gt;1 -->\n<g id=\"edge1\" class=\"edge\">\n<title>0&#45;&gt;1</title>\n<path fill=\"none\" stroke=\"#000000\" d=\"M166.6324,-504.9465C158.0143,-493.6012 148.4094,-480.9567 139.7617,-469.5724\"/>\n<polygon fill=\"#000000\" stroke=\"#000000\" points=\"142.4979,-467.3882 133.6618,-461.5422 136.9237,-471.6224 142.4979,-467.3882\"/>\n<text text-anchor=\"middle\" x=\"130.278\" y=\"-482.6121\" font-family=\"Times,serif\" font-size=\"14.00\" fill=\"#000000\">True</text>\n</g>\n<!-- 2 -->\n<g id=\"node3\" class=\"node\">\n<title>2</title>\n<polygon fill=\"#e5fcee\" stroke=\"#000000\" points=\"354.5,-469 190.5,-469 190.5,-401 354.5,-401 354.5,-469\"/>\n<text text-anchor=\"middle\" x=\"272.5\" y=\"-453.8\" font-family=\"Times,serif\" font-size=\"14.00\" fill=\"#000000\">petal length (cm) &lt;= 4.75</text>\n<text text-anchor=\"middle\" x=\"272.5\" y=\"-438.8\" font-family=\"Times,serif\" font-size=\"14.00\" fill=\"#000000\">samples = 71</text>\n<text text-anchor=\"middle\" x=\"272.5\" y=\"-423.8\" font-family=\"Times,serif\" font-size=\"14.00\" fill=\"#000000\">value = [0, 38, 33]</text>\n<text text-anchor=\"middle\" x=\"272.5\" y=\"-408.8\" font-family=\"Times,serif\" font-size=\"14.00\" fill=\"#000000\">class = versicolor</text>\n</g>\n<!-- 0&#45;&gt;2 -->\n<g id=\"edge2\" class=\"edge\">\n<title>0&#45;&gt;2</title>\n<path fill=\"none\" stroke=\"#000000\" d=\"M218.695,-504.9465C225.5325,-496.0578 232.9834,-486.3716 240.101,-477.1188\"/>\n<polygon fill=\"#000000\" stroke=\"#000000\" points=\"242.9232,-479.1903 246.2462,-469.13 237.3748,-474.9223 242.9232,-479.1903\"/>\n<text text-anchor=\"middle\" x=\"249.4796\" y=\"-490.22\" font-family=\"Times,serif\" font-size=\"14.00\" fill=\"#000000\">False</text>\n</g>\n<!-- 3 -->\n<g id=\"node4\" class=\"node\">\n<title>3</title>\n<polygon fill=\"#3fe685\" stroke=\"#000000\" points=\"264,-365 103,-365 103,-297 264,-297 264,-365\"/>\n<text text-anchor=\"middle\" x=\"183.5\" y=\"-349.8\" font-family=\"Times,serif\" font-size=\"14.00\" fill=\"#000000\">petal width (cm) &lt;= 1.65</text>\n<text text-anchor=\"middle\" x=\"183.5\" y=\"-334.8\" font-family=\"Times,serif\" font-size=\"14.00\" fill=\"#000000\">samples = 35</text>\n<text text-anchor=\"middle\" x=\"183.5\" y=\"-319.8\" font-family=\"Times,serif\" font-size=\"14.00\" fill=\"#000000\">value = [0, 34, 1]</text>\n<text text-anchor=\"middle\" x=\"183.5\" y=\"-304.8\" font-family=\"Times,serif\" font-size=\"14.00\" fill=\"#000000\">class = versicolor</text>\n</g>\n<!-- 2&#45;&gt;3 -->\n<g id=\"edge3\" class=\"edge\">\n<title>2&#45;&gt;3</title>\n<path fill=\"none\" stroke=\"#000000\" d=\"M243.3581,-400.9465C235.6745,-391.968 227.2947,-382.1758 219.3041,-372.8385\"/>\n<polygon fill=\"#000000\" stroke=\"#000000\" points=\"221.8685,-370.4521 212.7074,-365.13 216.5501,-375.0034 221.8685,-370.4521\"/>\n</g>\n<!-- 6 -->\n<g id=\"node7\" class=\"node\">\n<title>6</title>\n<polygon fill=\"#9152e8\" stroke=\"#000000\" points=\"443,-365 282,-365 282,-297 443,-297 443,-365\"/>\n<text text-anchor=\"middle\" x=\"362.5\" y=\"-349.8\" font-family=\"Times,serif\" font-size=\"14.00\" fill=\"#000000\">petal width (cm) &lt;= 1.75</text>\n<text text-anchor=\"middle\" x=\"362.5\" y=\"-334.8\" font-family=\"Times,serif\" font-size=\"14.00\" fill=\"#000000\">samples = 36</text>\n<text text-anchor=\"middle\" x=\"362.5\" y=\"-319.8\" font-family=\"Times,serif\" font-size=\"14.00\" fill=\"#000000\">value = [0, 4, 32]</text>\n<text text-anchor=\"middle\" x=\"362.5\" y=\"-304.8\" font-family=\"Times,serif\" font-size=\"14.00\" fill=\"#000000\">class = virginica</text>\n</g>\n<!-- 2&#45;&gt;6 -->\n<g id=\"edge6\" class=\"edge\">\n<title>2&#45;&gt;6</title>\n<path fill=\"none\" stroke=\"#000000\" d=\"M301.9694,-400.9465C309.7393,-391.968 318.2132,-382.1758 326.2936,-372.8385\"/>\n<polygon fill=\"#000000\" stroke=\"#000000\" points=\"329.0672,-374.982 332.9644,-365.13 323.774,-370.4014 329.0672,-374.982\"/>\n</g>\n<!-- 4 -->\n<g id=\"node5\" class=\"node\">\n<title>4</title>\n<polygon fill=\"#39e581\" stroke=\"#000000\" points=\"117,-253.5 0,-253.5 0,-200.5 117,-200.5 117,-253.5\"/>\n<text text-anchor=\"middle\" x=\"58.5\" y=\"-238.3\" font-family=\"Times,serif\" font-size=\"14.00\" fill=\"#000000\">samples = 34</text>\n<text text-anchor=\"middle\" x=\"58.5\" y=\"-223.3\" font-family=\"Times,serif\" font-size=\"14.00\" fill=\"#000000\">value = [0, 34, 0]</text>\n<text text-anchor=\"middle\" x=\"58.5\" y=\"-208.3\" font-family=\"Times,serif\" font-size=\"14.00\" fill=\"#000000\">class = versicolor</text>\n</g>\n<!-- 3&#45;&gt;4 -->\n<g id=\"edge4\" class=\"edge\">\n<title>3&#45;&gt;4</title>\n<path fill=\"none\" stroke=\"#000000\" d=\"M142.5703,-296.9465C128.4045,-285.1606 112.5537,-271.9726 98.4662,-260.2519\"/>\n<polygon fill=\"#000000\" stroke=\"#000000\" points=\"100.3275,-257.2474 90.4016,-253.5422 95.8504,-262.6285 100.3275,-257.2474\"/>\n</g>\n<!-- 5 -->\n<g id=\"node6\" class=\"node\">\n<title>5</title>\n<polygon fill=\"#8139e5\" stroke=\"#000000\" points=\"245.5,-253.5 135.5,-253.5 135.5,-200.5 245.5,-200.5 245.5,-253.5\"/>\n<text text-anchor=\"middle\" x=\"190.5\" y=\"-238.3\" font-family=\"Times,serif\" font-size=\"14.00\" fill=\"#000000\">samples = 1</text>\n<text text-anchor=\"middle\" x=\"190.5\" y=\"-223.3\" font-family=\"Times,serif\" font-size=\"14.00\" fill=\"#000000\">value = [0, 0, 1]</text>\n<text text-anchor=\"middle\" x=\"190.5\" y=\"-208.3\" font-family=\"Times,serif\" font-size=\"14.00\" fill=\"#000000\">class = virginica</text>\n</g>\n<!-- 3&#45;&gt;5 -->\n<g id=\"edge5\" class=\"edge\">\n<title>3&#45;&gt;5</title>\n<path fill=\"none\" stroke=\"#000000\" d=\"M185.7921,-296.9465C186.5112,-286.2621 187.3079,-274.4254 188.0383,-263.5742\"/>\n<polygon fill=\"#000000\" stroke=\"#000000\" points=\"191.534,-263.7547 188.7135,-253.5422 184.5498,-263.2845 191.534,-263.7547\"/>\n</g>\n<!-- 7 -->\n<g id=\"node8\" class=\"node\">\n<title>7</title>\n<polygon fill=\"#ffffff\" stroke=\"#000000\" points=\"437,-261 276,-261 276,-193 437,-193 437,-261\"/>\n<text text-anchor=\"middle\" x=\"356.5\" y=\"-245.8\" font-family=\"Times,serif\" font-size=\"14.00\" fill=\"#000000\">petal width (cm) &lt;= 1.55</text>\n<text text-anchor=\"middle\" x=\"356.5\" y=\"-230.8\" font-family=\"Times,serif\" font-size=\"14.00\" fill=\"#000000\">samples = 6</text>\n<text text-anchor=\"middle\" x=\"356.5\" y=\"-215.8\" font-family=\"Times,serif\" font-size=\"14.00\" fill=\"#000000\">value = [0, 3, 3]</text>\n<text text-anchor=\"middle\" x=\"356.5\" y=\"-200.8\" font-family=\"Times,serif\" font-size=\"14.00\" fill=\"#000000\">class = versicolor</text>\n</g>\n<!-- 6&#45;&gt;7 -->\n<g id=\"edge7\" class=\"edge\">\n<title>6&#45;&gt;7</title>\n<path fill=\"none\" stroke=\"#000000\" d=\"M360.5354,-296.9465C360.064,-288.776 359.5538,-279.9318 359.0598,-271.3697\"/>\n<polygon fill=\"#000000\" stroke=\"#000000\" points=\"362.5393,-270.9118 358.469,-261.13 355.5509,-271.315 362.5393,-270.9118\"/>\n</g>\n<!-- 12 -->\n<g id=\"node13\" class=\"node\">\n<title>12</title>\n<polygon fill=\"#8540e6\" stroke=\"#000000\" points=\"619.5,-261 455.5,-261 455.5,-193 619.5,-193 619.5,-261\"/>\n<text text-anchor=\"middle\" x=\"537.5\" y=\"-245.8\" font-family=\"Times,serif\" font-size=\"14.00\" fill=\"#000000\">petal length (cm) &lt;= 4.85</text>\n<text text-anchor=\"middle\" x=\"537.5\" y=\"-230.8\" font-family=\"Times,serif\" font-size=\"14.00\" fill=\"#000000\">samples = 30</text>\n<text text-anchor=\"middle\" x=\"537.5\" y=\"-215.8\" font-family=\"Times,serif\" font-size=\"14.00\" fill=\"#000000\">value = [0, 1, 29]</text>\n<text text-anchor=\"middle\" x=\"537.5\" y=\"-200.8\" font-family=\"Times,serif\" font-size=\"14.00\" fill=\"#000000\">class = virginica</text>\n</g>\n<!-- 6&#45;&gt;12 -->\n<g id=\"edge12\" class=\"edge\">\n<title>6&#45;&gt;12</title>\n<path fill=\"none\" stroke=\"#000000\" d=\"M419.8015,-296.9465C436.2694,-287.1599 454.3638,-276.4066 471.3207,-266.3294\"/>\n<polygon fill=\"#000000\" stroke=\"#000000\" points=\"473.2613,-269.2476 480.0697,-261.13 469.6851,-263.23 473.2613,-269.2476\"/>\n</g>\n<!-- 8 -->\n<g id=\"node9\" class=\"node\">\n<title>8</title>\n<polygon fill=\"#ab7bee\" stroke=\"#000000\" points=\"287.5,-157 131.5,-157 131.5,-89 287.5,-89 287.5,-157\"/>\n<text text-anchor=\"middle\" x=\"209.5\" y=\"-141.8\" font-family=\"Times,serif\" font-size=\"14.00\" fill=\"#000000\">petal length (cm) &lt;= 4.9</text>\n<text text-anchor=\"middle\" x=\"209.5\" y=\"-126.8\" font-family=\"Times,serif\" font-size=\"14.00\" fill=\"#000000\">samples = 4</text>\n<text text-anchor=\"middle\" x=\"209.5\" y=\"-111.8\" font-family=\"Times,serif\" font-size=\"14.00\" fill=\"#000000\">value = [0, 1, 3]</text>\n<text text-anchor=\"middle\" x=\"209.5\" y=\"-96.8\" font-family=\"Times,serif\" font-size=\"14.00\" fill=\"#000000\">class = virginica</text>\n</g>\n<!-- 7&#45;&gt;8 -->\n<g id=\"edge8\" class=\"edge\">\n<title>7&#45;&gt;8</title>\n<path fill=\"none\" stroke=\"#000000\" d=\"M308.3667,-192.9465C294.9144,-183.4293 280.17,-172.9978 266.2688,-163.163\"/>\n<polygon fill=\"#000000\" stroke=\"#000000\" points=\"267.9264,-160.0483 257.7414,-157.13 263.8835,-165.7628 267.9264,-160.0483\"/>\n</g>\n<!-- 11 -->\n<g id=\"node12\" class=\"node\">\n<title>11</title>\n<polygon fill=\"#39e581\" stroke=\"#000000\" points=\"421,-149.5 306,-149.5 306,-96.5 421,-96.5 421,-149.5\"/>\n<text text-anchor=\"middle\" x=\"363.5\" y=\"-134.3\" font-family=\"Times,serif\" font-size=\"14.00\" fill=\"#000000\">samples = 2</text>\n<text text-anchor=\"middle\" x=\"363.5\" y=\"-119.3\" font-family=\"Times,serif\" font-size=\"14.00\" fill=\"#000000\">value = [0, 2, 0]</text>\n<text text-anchor=\"middle\" x=\"363.5\" y=\"-104.3\" font-family=\"Times,serif\" font-size=\"14.00\" fill=\"#000000\">class = versicolor</text>\n</g>\n<!-- 7&#45;&gt;11 -->\n<g id=\"edge11\" class=\"edge\">\n<title>7&#45;&gt;11</title>\n<path fill=\"none\" stroke=\"#000000\" d=\"M358.7921,-192.9465C359.5112,-182.2621 360.3079,-170.4254 361.0383,-159.5742\"/>\n<polygon fill=\"#000000\" stroke=\"#000000\" points=\"364.534,-159.7547 361.7135,-149.5422 357.5498,-159.2845 364.534,-159.7547\"/>\n</g>\n<!-- 9 -->\n<g id=\"node10\" class=\"node\">\n<title>9</title>\n<polygon fill=\"#39e581\" stroke=\"#000000\" points=\"226,-53 111,-53 111,0 226,0 226,-53\"/>\n<text text-anchor=\"middle\" x=\"168.5\" y=\"-37.8\" font-family=\"Times,serif\" font-size=\"14.00\" fill=\"#000000\">samples = 1</text>\n<text text-anchor=\"middle\" x=\"168.5\" y=\"-22.8\" font-family=\"Times,serif\" font-size=\"14.00\" fill=\"#000000\">value = [0, 1, 0]</text>\n<text text-anchor=\"middle\" x=\"168.5\" y=\"-7.8\" font-family=\"Times,serif\" font-size=\"14.00\" fill=\"#000000\">class = versicolor</text>\n</g>\n<!-- 8&#45;&gt;9 -->\n<g id=\"edge9\" class=\"edge\">\n<title>8&#45;&gt;9</title>\n<path fill=\"none\" stroke=\"#000000\" d=\"M195.0449,-88.9777C191.4267,-80.4617 187.5326,-71.2963 183.8717,-62.6798\"/>\n<polygon fill=\"#000000\" stroke=\"#000000\" points=\"186.9964,-61.0836 179.8646,-53.2485 180.5538,-63.8209 186.9964,-61.0836\"/>\n</g>\n<!-- 10 -->\n<g id=\"node11\" class=\"node\">\n<title>10</title>\n<polygon fill=\"#8139e5\" stroke=\"#000000\" points=\"354.5,-53 244.5,-53 244.5,0 354.5,0 354.5,-53\"/>\n<text text-anchor=\"middle\" x=\"299.5\" y=\"-37.8\" font-family=\"Times,serif\" font-size=\"14.00\" fill=\"#000000\">samples = 3</text>\n<text text-anchor=\"middle\" x=\"299.5\" y=\"-22.8\" font-family=\"Times,serif\" font-size=\"14.00\" fill=\"#000000\">value = [0, 0, 3]</text>\n<text text-anchor=\"middle\" x=\"299.5\" y=\"-7.8\" font-family=\"Times,serif\" font-size=\"14.00\" fill=\"#000000\">class = virginica</text>\n</g>\n<!-- 8&#45;&gt;10 -->\n<g id=\"edge10\" class=\"edge\">\n<title>8&#45;&gt;10</title>\n<path fill=\"none\" stroke=\"#000000\" d=\"M241.2306,-88.9777C249.7708,-79.8207 259.0113,-69.9129 267.5626,-60.744\"/>\n<polygon fill=\"#000000\" stroke=\"#000000\" points=\"270.2923,-62.9488 274.5532,-53.2485 265.1731,-58.1744 270.2923,-62.9488\"/>\n</g>\n<!-- 13 -->\n<g id=\"node14\" class=\"node\">\n<title>13</title>\n<polygon fill=\"#c09cf2\" stroke=\"#000000\" points=\"608,-157 453,-157 453,-89 608,-89 608,-157\"/>\n<text text-anchor=\"middle\" x=\"530.5\" y=\"-141.8\" font-family=\"Times,serif\" font-size=\"14.00\" fill=\"#000000\">sepal width (cm) &lt;= 3.1</text>\n<text text-anchor=\"middle\" x=\"530.5\" y=\"-126.8\" font-family=\"Times,serif\" font-size=\"14.00\" fill=\"#000000\">samples = 3</text>\n<text text-anchor=\"middle\" x=\"530.5\" y=\"-111.8\" font-family=\"Times,serif\" font-size=\"14.00\" fill=\"#000000\">value = [0, 1, 2]</text>\n<text text-anchor=\"middle\" x=\"530.5\" y=\"-96.8\" font-family=\"Times,serif\" font-size=\"14.00\" fill=\"#000000\">class = virginica</text>\n</g>\n<!-- 12&#45;&gt;13 -->\n<g id=\"edge13\" class=\"edge\">\n<title>12&#45;&gt;13</title>\n<path fill=\"none\" stroke=\"#000000\" d=\"M535.2079,-192.9465C534.658,-184.776 534.0627,-175.9318 533.4864,-167.3697\"/>\n<polygon fill=\"#000000\" stroke=\"#000000\" points=\"536.961,-166.8723 532.7972,-157.13 529.9768,-167.3425 536.961,-166.8723\"/>\n</g>\n<!-- 16 -->\n<g id=\"node17\" class=\"node\">\n<title>16</title>\n<polygon fill=\"#8139e5\" stroke=\"#000000\" points=\"743,-149.5 626,-149.5 626,-96.5 743,-96.5 743,-149.5\"/>\n<text text-anchor=\"middle\" x=\"684.5\" y=\"-134.3\" font-family=\"Times,serif\" font-size=\"14.00\" fill=\"#000000\">samples = 27</text>\n<text text-anchor=\"middle\" x=\"684.5\" y=\"-119.3\" font-family=\"Times,serif\" font-size=\"14.00\" fill=\"#000000\">value = [0, 0, 27]</text>\n<text text-anchor=\"middle\" x=\"684.5\" y=\"-104.3\" font-family=\"Times,serif\" font-size=\"14.00\" fill=\"#000000\">class = virginica</text>\n</g>\n<!-- 12&#45;&gt;16 -->\n<g id=\"edge16\" class=\"edge\">\n<title>12&#45;&gt;16</title>\n<path fill=\"none\" stroke=\"#000000\" d=\"M585.6333,-192.9465C602.6037,-180.9403 621.6304,-167.4791 638.4265,-155.5962\"/>\n<polygon fill=\"#000000\" stroke=\"#000000\" points=\"640.8416,-158.175 646.9837,-149.5422 636.7987,-152.4605 640.8416,-158.175\"/>\n</g>\n<!-- 14 -->\n<g id=\"node15\" class=\"node\">\n<title>14</title>\n<polygon fill=\"#8139e5\" stroke=\"#000000\" points=\"526.5,-53 416.5,-53 416.5,0 526.5,0 526.5,-53\"/>\n<text text-anchor=\"middle\" x=\"471.5\" y=\"-37.8\" font-family=\"Times,serif\" font-size=\"14.00\" fill=\"#000000\">samples = 2</text>\n<text text-anchor=\"middle\" x=\"471.5\" y=\"-22.8\" font-family=\"Times,serif\" font-size=\"14.00\" fill=\"#000000\">value = [0, 0, 2]</text>\n<text text-anchor=\"middle\" x=\"471.5\" y=\"-7.8\" font-family=\"Times,serif\" font-size=\"14.00\" fill=\"#000000\">class = virginica</text>\n</g>\n<!-- 13&#45;&gt;14 -->\n<g id=\"edge14\" class=\"edge\">\n<title>13&#45;&gt;14</title>\n<path fill=\"none\" stroke=\"#000000\" d=\"M509.6988,-88.9777C504.3242,-80.187 498.5265,-70.7044 493.1115,-61.8477\"/>\n<polygon fill=\"#000000\" stroke=\"#000000\" points=\"496.0564,-59.9545 487.854,-53.2485 490.0842,-63.6059 496.0564,-59.9545\"/>\n</g>\n<!-- 15 -->\n<g id=\"node16\" class=\"node\">\n<title>15</title>\n<polygon fill=\"#39e581\" stroke=\"#000000\" points=\"660,-53 545,-53 545,0 660,0 660,-53\"/>\n<text text-anchor=\"middle\" x=\"602.5\" y=\"-37.8\" font-family=\"Times,serif\" font-size=\"14.00\" fill=\"#000000\">samples = 1</text>\n<text text-anchor=\"middle\" x=\"602.5\" y=\"-22.8\" font-family=\"Times,serif\" font-size=\"14.00\" fill=\"#000000\">value = [0, 1, 0]</text>\n<text text-anchor=\"middle\" x=\"602.5\" y=\"-7.8\" font-family=\"Times,serif\" font-size=\"14.00\" fill=\"#000000\">class = versicolor</text>\n</g>\n<!-- 13&#45;&gt;15 -->\n<g id=\"edge15\" class=\"edge\">\n<title>13&#45;&gt;15</title>\n<path fill=\"none\" stroke=\"#000000\" d=\"M555.8845,-88.9777C562.58,-80.0039 569.8135,-70.3089 576.539,-61.295\"/>\n<polygon fill=\"#000000\" stroke=\"#000000\" points=\"579.3677,-63.3565 582.5426,-53.2485 573.7573,-59.1704 579.3677,-63.3565\"/>\n</g>\n</g>\n</svg>\n"
          },
          "metadata": {
            "tags": []
          },
          "execution_count": 85
        }
      ]
    },
    {
      "cell_type": "code",
      "metadata": {
        "id": "zaTNwAbwhpqP",
        "colab_type": "code",
        "colab": {
          "base_uri": "https://localhost:8080/",
          "height": 280
        },
        "outputId": "8ac09ded-3d42-4e01-97c0-ac9d900580af"
      },
      "source": [
        "#grafico de barras\n",
        "caract=iris.data.shape[1]\n",
        "plt.barh(range(caract),arbol.feature_importances_) #Importancia de las caracteristicas\n",
        "plt.yticks(np.arange(caract),iris.feature_names)\n",
        "plt.xlabel('Importancia de las características')\n",
        "plt.ylabel('Características')\n",
        "plt.show()\n",
        "#Grafica que importancia tiene cada caracteristica para tomar la decision"
      ],
      "execution_count": 87,
      "outputs": [
        {
          "output_type": "display_data",
          "data": {
            "image/png": "[encoded data removed]",
            "text/plain": [
              "<Figure size 432x288 with 1 Axes>"
            ]
          },
          "metadata": {
            "tags": []
          }
        }
      ]
    },
    {
      "cell_type": "code",
      "metadata": {
        "id": "taowpFodi4_5",
        "colab_type": "code",
        "colab": {}
      },
      "source": [
        "arbol= DecisionTreeClassifier(max_depth=5) #la profundidad es que tanto de ramifica el arbol\n"
      ],
      "execution_count": 0,
      "outputs": []
    },
    {
      "cell_type": "code",
      "metadata": {
        "id": "QPtpREr7jKFT",
        "colab_type": "code",
        "colab": {
          "base_uri": "https://localhost:8080/",
          "height": 34
        },
        "outputId": "a17810a8-4ec1-419c-fd35-e3d8c253a0c3"
      },
      "source": [
        "arbol.fit(X_train,Y_train)\n",
        "arbol.score(X_test,Y_test)"
      ],
      "execution_count": 95,
      "outputs": [
        {
          "output_type": "execute_result",
          "data": {
            "text/plain": [
              "0.9473684210526315"
            ]
          },
          "metadata": {
            "tags": []
          },
          "execution_count": 95
        }
      ]
    },
    {
      "cell_type": "code",
      "metadata": {
        "id": "o3ZiJfUAjPhW",
        "colab_type": "code",
        "colab": {
          "base_uri": "https://localhost:8080/",
          "height": 308
        },
        "outputId": "da69fb46-57a6-4c05-aa1b-22059c43c5ee"
      },
      "source": [
        "#GRAFICAS PARA SABER COMO CLASIFICO (todo esto es Matplotlib)\n",
        "\n",
        "n_classes=3\n",
        "plot_colors='bry'\n",
        "plot_step=0.02\n",
        "\n",
        "for pairidx, pair in enumerate([[0,1],[0,2],[0,3],\n",
        "                               [1,2],[1,3],[2,3]]):\n",
        "    X=iris.data[:,pair]\n",
        "    y=iris.target\n",
        "    \n",
        "    #entrena algoritmo\n",
        "    clf=DecisionTreeClassifier(max_depth=3).fit(X,y)\n",
        "    plt.subplot(2,3,pairidx + 1)\n",
        "    x_min, x_max=X[:,0].min() - 1, X[:,0].max() +1\n",
        "    y_min, y_max=X[:,1].min() - 1, X[:,1].max() +1\n",
        "    xx, yy=np.meshgrid(np.arange(x_min, x_max, plot_step),\n",
        "                       np.arange(y_min, y_max, plot_step))\n",
        "    Z=clf.predict(np.c_[xx.ravel(), yy.ravel()])\n",
        "    Z=Z.reshape(xx.shape)\n",
        "    cs=plt.contourf(xx, yy, Z, cmap=plt.cm.Paired)\n",
        "    \n",
        "    plt.xlabel(iris.feature_names[pair[0]])\n",
        "    plt.ylabel(iris.feature_names[pair[1]])\n",
        "    plt.axis('tight')\n",
        "\n",
        "    #plot puntos de entrenamiento\n",
        "    for i, color in zip(range(n_classes), plot_colors):\n",
        "        idx=np.where(y == i)\n",
        "        plt.scatter(X[idx, 0], X[idx,1], c=color, label=iris.target_names[i],\n",
        "                    cmap=plt.cm.Paired)\n",
        "    plt.axis('tight')\n",
        "\n",
        "plt.suptitle('Ejemplos de clasificador de arboles')\n",
        "\n",
        "plt.legend()\n",
        "plt.show()\n"
      ],
      "execution_count": 100,
      "outputs": [
        {
          "output_type": "display_data",
          "data": {
            "image/png": "[encoded data removed]",
            "text/plain": [
              "<Figure size 432x288 with 6 Axes>"
            ]
          },
          "metadata": {
            "tags": []
          }
        }
      ]
    },
    {
      "cell_type": "code",
      "metadata": {
        "id": "6q-of9IskCW3",
        "colab_type": "code",
        "colab": {}
      },
      "source": [
        "#Las rayas finitas (que no aparecen en esta gráfica) son sobreajustes: el modelo esta generandola para solo poder clasificar bien 1 solo elemento con los que fue entrenado\n",
        "#En el futuro si cae en esa raya un elemento nuevo no le va a atinar"
      ],
      "execution_count": 0,
      "outputs": []
    }
  ]
}